{
 "cells": [
  {
   "cell_type": "markdown",
   "metadata": {},
   "source": [
    "# Python Basics"
   ]
  },
  {
   "cell_type": "markdown",
   "metadata": {},
   "source": [
    "## Background Information"
   ]
  },
  {
   "cell_type": "markdown",
   "metadata": {},
   "source": [
    "#### Jupyter Notebooks:\n",
    "  * a notebook is a system for combining code and written description\n",
    "    * run a cell: Shift-Enter\n",
    "    * run a cell and add new: Alt-Enter\n",
    "    * keyboard shortcuts: click above and press 'h'\n",
    "  * this text is in a 'markdown cell'\n",
    "  * markdown used for words, description, and paragraphs\n",
    "    * cheat sheet: https://github.com/adam-p/markdown-here/wiki/Markdown-Cheatsheet\n",
    "\n",
    "\n",
    "#### Python:\n",
    "  * our programming language for second semester\n",
    "  * a high-level programming language\n",
    "  * popular with data scientists and academic researchers\n",
    "  * style guide: https://www.python.org/dev/peps/pep-0008/\n",
    "  \n",
    "  \n",
    "#### High-Level Programming Languages:\n",
    "  * more abstraction than a lower-level language\n",
    "  * code more readable (looks a lot like English)\n",
    "  * code is easier to debug since it is easier to read and understand\n",
    "  * do more with less: your code is often shorter than it would otherwise be\n",
    "  * code will often run more slowly than with a lower-level language\n",
    "  \n",
    "#### Open Source\n",
    "  * Python and Jupyter are open source projects\n",
    "    * free for everyone to use (even commercially)\n",
    "  * Open source software:\n",
    "    * source code shared with all, often free to use/change/distribute\n",
    "    * many different open source licenses: Creative Commons, MIT, BSD\n",
    "    * may or may not require attribution to original author\n",
    "    * many open source projects on GitHub (github.com)\n"
   ]
  },
  {
   "cell_type": "markdown",
   "metadata": {},
   "source": [
    "## Working with cells in jupyter notebooks\n",
    "* let's learn how to add cellssasassas\n",
    "  * we'll also change between code and markdown\n",
    " * shift enter to make nirmal text"
   ]
  },
  {
   "cell_type": "markdown",
   "metadata": {},
   "source": [
    "## Comments"
   ]
  },
  {
   "cell_type": "code",
   "execution_count": 1,
   "metadata": {},
   "outputs": [
    {
     "data": {
      "text/plain": [
       "116"
      ]
     },
     "execution_count": 1,
     "metadata": {},
     "output_type": "execute_result"
    }
   ],
   "source": [
    "# comment in Python with hashes\n",
    "# add two numbers:\n",
    "62 + 54\n"
   ]
  },
  {
   "cell_type": "markdown",
   "metadata": {},
   "source": [
    "## Whitespace\n",
    "  * in Python, whitespace matters\n",
    "    * instead of curly braces, use four spaces to mark a block "
   ]
  },
  {
   "cell_type": "code",
   "execution_count": 6,
   "metadata": {
    "scrolled": false
   },
   "outputs": [
    {
     "name": "stdout",
     "output_type": "stream",
     "text": [
      "0\n",
      "1\n",
      "3\n",
      "6\n",
      "10\n"
     ]
    }
   ],
   "source": [
    "# in this cell, print(n) is part of the block so it is repeated:\n",
    "n = 0\n",
    "for i in range(5):\n",
    "    n += i\n",
    "    print(n)\n"
   ]
  },
  {
   "cell_type": "code",
   "execution_count": 7,
   "metadata": {},
   "outputs": [
    {
     "name": "stdout",
     "output_type": "stream",
     "text": [
      "10\n"
     ]
    }
   ],
   "source": [
    "# in this cell, print(n) is not part of the block so it only runs once:\n",
    "n = 0\n",
    "for i in range(5):\n",
    "    n += i\n",
    "print(n)"
   ]
  },
  {
   "cell_type": "markdown",
   "metadata": {},
   "source": [
    "## Selection\n",
    "\n",
    "  * also known as decision statements or 'if-else' statements"
   ]
  },
  {
   "cell_type": "code",
   "execution_count": 13,
   "metadata": {},
   "outputs": [
    {
     "name": "stdout",
     "output_type": "stream",
     "text": [
      "socks not shoes\n"
     ]
    }
   ],
   "source": [
    "# use 'elif' instead of 'else if'\n",
    "temp = 55\n",
    "sunny = False\n",
    "\n",
    "if temp < 20:\n",
    "    print(\"Put on more shoes\")\n",
    "elif temp <=50:\n",
    "    print(\"Put on shoes\")\n",
    "elif temp > 80 or sunny:\n",
    "    print(\"don't shoes\")\n",
    "else:\n",
    "    print(\"socks not shoes\")"
   ]
  },
  {
   "cell_type": "markdown",
   "metadata": {},
   "source": [
    "## Iteration\n",
    "  * also known as loops ('for' and 'while')"
   ]
  },
  {
   "cell_type": "code",
   "execution_count": 9,
   "metadata": {},
   "outputs": [
    {
     "name": "stdout",
     "output_type": "stream",
     "text": [
      "1 \n",
      "\n",
      "2 \n",
      "\n",
      "3 \n",
      "\n",
      "4 \n",
      "\n",
      "5 \n",
      "\n",
      "6 \n",
      "\n",
      "7 \n",
      "\n"
     ]
    }
   ],
   "source": [
    "# count to 7:\n",
    "for i in range(1,8):\n",
    "    print(i,\"\\n\")    #\"\\n\" is a line break, like a <br> in HTML\n"
   ]
  },
  {
   "cell_type": "code",
   "execution_count": 2,
   "metadata": {},
   "outputs": [
    {
     "name": "stdout",
     "output_type": "stream",
     "text": [
      "9 bottles of root beer on the wall... \n",
      "   Take one down, make a float... \n",
      "8 bottles of root beer on the wall... \n",
      "   Take one down, make a float... \n",
      "7 bottles of root beer on the wall... \n",
      "   Take one down, make a float... \n",
      "6 bottles of root beer on the wall... \n",
      "   Take one down, make a float... \n",
      "5 bottles of root beer on the wall... \n",
      "   Take one down, make a float... \n",
      "4 bottles of root beer on the wall... \n",
      "   Take one down, make a float... \n",
      "3 bottles of root beer on the wall... \n",
      "   Take one down, make a float... \n",
      "2 bottles of root beer on the wall... \n",
      "   Take one down, make a float... \n",
      "1 bottles of root beer on the wall... \n",
      "   Take one down, make a float... \n",
      "\n"
     ]
    }
   ],
   "source": [
    "# try a while loop\n",
    "# read code, THEN press Shift-Enter\n",
    "\n",
    "bottle_count = 9\n",
    "output = \"\"\n",
    "\n",
    "while bottle_count > 0:   # bottle_count in Python\n",
    "    output += str(bottle_count) + ' bottles of root beer on the wall... \\n' # str converts bottle_count to a string\n",
    "    output += '   Take one down, make a float... \\n'\n",
    "    bottle_count = bottle_count - 1\n",
    "    \n",
    "print(output)"
   ]
  },
  {
   "cell_type": "markdown",
   "metadata": {},
   "source": [
    "## Writing Procedures\n",
    "\n",
    "  * using iteration and selection together"
   ]
  },
  {
   "cell_type": "code",
   "execution_count": 7,
   "metadata": {
    "scrolled": true
   },
   "outputs": [
    {
     "name": "stdout",
     "output_type": "stream",
     "text": [
      "0 is an even number. \n",
      "\n",
      "1 is an odd number. \n",
      "\n",
      "2 is an even number. \n",
      "\n",
      "3 is an odd number. \n",
      "\n",
      "4 is an even number. \n",
      "\n"
     ]
    }
   ],
   "source": [
    "# read this code, THEN press Shift-Enter\n",
    "for i in range(5):    #5 numbers, starting at 0 gives 0,1,2,3,4\n",
    "    if i % 2 == 1:\n",
    "        print(i,\"is an odd number. \\n\")\n",
    "    else:\n",
    "        print(i,\"is an even number. \\n\")\n",
    "        # print(\"Whitespace takes some time to understand.\")\n",
    "        #change indentation of above line and predict output!"
   ]
  },
  {
   "cell_type": "code",
   "execution_count": 8,
   "metadata": {},
   "outputs": [
    {
     "name": "stdout",
     "output_type": "stream",
     "text": [
      "[0, 1, 2, 3, 'four']\n"
     ]
    }
   ],
   "source": [
    "# using the append method:\n",
    "i = 0\n",
    "output = [] # output is an empty list, not an empty string\n",
    "\n",
    "while i < 5:\n",
    "    if (i != 4):\n",
    "        output.append(i)\n",
    "    else:\n",
    "        output.append(\"four\")\n",
    "    i += 1\n",
    "print(output)"
   ]
  },
  {
   "cell_type": "markdown",
   "metadata": {},
   "source": [
    "## Numbers and mathematical operators"
   ]
  },
  {
   "cell_type": "code",
   "execution_count": 11,
   "metadata": {},
   "outputs": [
    {
     "name": "stdout",
     "output_type": "stream",
     "text": [
      "13\n",
      "94\n",
      "111111111111111099999998888888888888889\n"
     ]
    }
   ],
   "source": [
    " # addition\n",
    "print(5 + 8)\n",
    " # subtraction\n",
    "print(99 - 5)\n",
    " # multiplication\n",
    "print(33333333333333333333333*3333333333333333)"
   ]
  },
  {
   "cell_type": "code",
   "execution_count": 13,
   "metadata": {},
   "outputs": [
    {
     "name": "stdout",
     "output_type": "stream",
     "text": [
      "2.5\n",
      "2\n",
      "1\n"
     ]
    }
   ],
   "source": [
    " # floating-point division (true division) - w/ remainder\n",
    "print(5/2)\n",
    " # integer division - no remainder\n",
    "print(5//2)\n",
    " # modulus operator - remainder\n",
    "print(5%2)"
   ]
  },
  {
   "cell_type": "code",
   "execution_count": 14,
   "metadata": {},
   "outputs": [
    {
     "data": {
      "text/plain": [
       "25"
      ]
     },
     "execution_count": 14,
     "metadata": {},
     "output_type": "execute_result"
    }
   ],
   "source": [
    " # 5 raised to the 2nd power (5^2)\n",
    "5**2"
   ]
  },
  {
   "cell_type": "code",
   "execution_count": 3,
   "metadata": {},
   "outputs": [
    {
     "name": "stdout",
     "output_type": "stream",
     "text": [
      "34\n",
      "42\n",
      "13\n"
     ]
    }
   ],
   "source": [
    "# generate 3 random numbers between 10 and 50\n",
    "\n",
    "# import the random module:\n",
    "import random\n",
    "# for loop:\n",
    "for i in range(3):\n",
    "    my_num = random.randint(10,50)\n",
    "    print(my_num)"
   ]
  },
  {
   "cell_type": "code",
   "execution_count": 2,
   "metadata": {},
   "outputs": [],
   "source": [
    "# access documentation\n",
    "?random.randint"
   ]
  },
  {
   "cell_type": "markdown",
   "metadata": {},
   "source": [
    "## Variables and Functions"
   ]
  },
  {
   "cell_type": "code",
   "execution_count": 3,
   "metadata": {},
   "outputs": [
    {
     "name": "stdout",
     "output_type": "stream",
     "text": [
      "100\n"
     ]
    }
   ],
   "source": [
    "# to create a variable, simply assign a value to it:\n",
    "my_grade = 100\n",
    "print(my_grade)\n"
   ]
  },
  {
   "cell_type": "code",
   "execution_count": 15,
   "metadata": {},
   "outputs": [],
   "source": [
    "# use def to define a function:\n",
    "def show_message(msg): # 99% of python functions have a parameter\n",
    "    print(\"This is your message: \", msg)\n",
    "    \n"
   ]
  },
  {
   "cell_type": "markdown",
   "metadata": {},
   "source": [
    "## Strings"
   ]
  },
  {
   "cell_type": "code",
   "execution_count": 14,
   "metadata": {},
   "outputs": [
    {
     "name": "stdout",
     "output_type": "stream",
     "text": [
      "hello what is going on\n"
     ]
    }
   ],
   "source": [
    "# single or double quotes for strings, but be consistent\n",
    "my_message = \"hello\"\n",
    "your_message = \"what is going on\"\n",
    "print(my_message, your_message)"
   ]
  },
  {
   "cell_type": "code",
   "execution_count": 12,
   "metadata": {},
   "outputs": [
    {
     "name": "stdout",
     "output_type": "stream",
     "text": [
      "This is a new line \n",
      "of text\n"
     ]
    }
   ],
   "source": [
    "# backslash to encode special characters\n",
    "new_line =  \"\\n\"    # finish this line with your teacher\n",
    "print('This is a new line ' + new_line + 'of text')"
   ]
  },
  {
   "cell_type": "code",
   "execution_count": null,
   "metadata": {},
   "outputs": [],
   "source": [
    "# PRELOADED\n",
    "# r to represent a raw string (example: if you want a backslash to appear and not signify a new line)\n",
    "not_new_line =     # finish this line with your teacher\n",
    "new_line = \"\\n\"\n",
    "print('This will not give a ' + not_new_line + ' new line of text')\n",
    "print ('This will give a' + new_line + 'new line of text')"
   ]
  },
  {
   "cell_type": "code",
   "execution_count": 16,
   "metadata": {},
   "outputs": [
    {
     "name": "stdout",
     "output_type": "stream",
     "text": [
      "The Red Wheelbarrow\n",
      "William Carlos Williams\n",
      "\n",
      " so much depends\n",
      "upon\n",
      "\n",
      "a red wheel\n",
      "barrow\n",
      "\n",
      "glazed with rain\n",
      "water\n",
      "\n",
      "beside the white\n",
      "chickens.\n"
     ]
    }
   ],
   "source": [
    "# triple (double) quotes to create a multi-line string\n",
    "myMessage = \"\"\"The Red Wheelbarrow\n",
    "William Carlos Williams\n",
    "\n",
    " so much depends\n",
    "upon\n",
    "\n",
    "a red wheel\n",
    "barrow\n",
    "\n",
    "glazed with rain\n",
    "water\n",
    "\n",
    "beside the white\n",
    "chickens.\"\"\"\n",
    "print(myMessage)"
   ]
  },
  {
   "cell_type": "markdown",
   "metadata": {
    "collapsed": true
   },
   "source": [
    "## Task 1\n",
    "\n",
    "* Write a for-loop that prints out all positive perfect squares less than 31^2 that are not divisible by 3"
   ]
  },
  {
   "cell_type": "markdown",
   "metadata": {
    "collapsed": true
   },
   "source": [
    "## Task 2\n",
    "\n",
    "* Part 1: define a function, describe_temp(current_temp), that returns a descriptive string that describes the current temperature\n",
    "  * Sample outputs: \n",
    "    * describe_temp(82) might return '82 degrees is beach weather!'\n",
    "    * describe_temp(71) might return '71 degrees is barbecue weather!'\n",
    "    * describe_temp(25) might return '25 degrees is Chicago weather.'\n",
    "\n",
    "* Part 2: Write an expression that passes a random number from 0 to 100 to describe_temp "
   ]
  }
 ],
 "metadata": {
  "kernelspec": {
   "display_name": "Python 3",
   "language": "python",
   "name": "python3"
  },
  "language_info": {
   "codemirror_mode": {
    "name": "ipython",
    "version": 3
   },
   "file_extension": ".py",
   "mimetype": "text/x-python",
   "name": "python",
   "nbconvert_exporter": "python",
   "pygments_lexer": "ipython3",
   "version": "3.7.1"
  }
 },
 "nbformat": 4,
 "nbformat_minor": 1
}
