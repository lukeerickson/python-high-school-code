{
 "cells": [
  {
   "cell_type": "markdown",
   "metadata": {},
   "source": [
    "# Randomly Generate Dice Rolls\n",
    "* Use numpy.random.randint(min index, max index + 1, times to repeat)\n",
    "* Need numbers between 1 and 6\n",
    "* Need to repeat 1000 times"
   ]
  },
  {
   "cell_type": "code",
   "execution_count": 1,
   "metadata": {},
   "outputs": [
    {
     "name": "stdout",
     "output_type": "stream",
     "text": [
      "[4 6 5 2 1 1 6 4 2 3 2 3 2 3 5 6 4 1 1 1 1 2 3 3 6 1 2 5 5 4 6 1 2 5 4 1 6\n",
      " 4 1 6 3 4 4 2 5 6 6 5 6 6 2 2 3 2 5 6 1 6 1 2 2 5 2 6 4 5 5 3 2 6 3 1 5 3\n",
      " 1 2 6 5 1 5 1 1 4 4 6 1 2 3 5 3 4 1 6 1 2 1 5 3 3 6 6 4 3 2 3 5 5 2 1 5 5\n",
      " 6 6 5 2 2 6 5 3 3 5 1 2 1 2 1 1 4 1 6 5 5 2 3 4 3 1 1 4 5 1 3 5 5 4 2 3 3\n",
      " 5 1 6 2 2 6 2 2 2 3 1 1 2 1 4 2 2 1 4 5 1 3 2 4 4 2 5 2 2 6 6 4 5 4 3 3 6\n",
      " 4 3 1 2 4 4 5 2 2 1 3 1 5 6 6 1 5 5 5 3 4 3 1 6 4 2 4 2 4 1 6 6 3 5 4 5 4\n",
      " 2 3 4 2 1 3 2 3 2 6 2 1 1 2 5 5 6 6 3 2 2 3 4 3 5 2 5 1 4 3 3 1 4 2 2 6 5\n",
      " 4 2 4 1 4 4 2 3 1 4 2 3 6 2 3 3 1 2 4 4 3 1 6 5 2 5 2 4 2 5 2 6 5 1 2 4 1\n",
      " 2 1 5 5 2 2 2 1 1 6 3 1 2 3 5 2 5 1 5 5 2 5 2 6 5 3 6 6 4 4 1 1 3 1 6 2 3\n",
      " 1 6 4 2 3 3 5 2 1 6 2 2 6 4 6 4 3 6 5 4 6 3 3 5 2 4 1 2 5 4 4 5 3 3 2 1 6\n",
      " 2 4 1 2 6 6 1 1 5 1 2 5 2 1 3 6 3 2 2 3 5 3 1 3 1 3 1 1 2 6 6 3 6 3 1 4 1\n",
      " 4 6 1 6 1 4 2 6 6 4 6 3 3 5 4 5 4 4 3 2 1 5 5 3 5 3 3 3 5 5 6 3 6 5 5 6 6\n",
      " 5 3 3 5 4 6 3 5 2 2 4 6 6 2 4 3 1 1 4 3 2 3 1 3 6 3 3 5 3 6 1 3 1 6 6 6 6\n",
      " 6 3 1 3 4 2 1 3 6 2 6 4 2 4 1 3 1 1 2 6 3 1 3 6 3 4 5 2 5 4 4 2 2 5 1 1 4\n",
      " 2 3 4 4 6 2 5 4 4 6 6 3 4 6 4 2 5 1 2 1 5 5 4 3 1 6 6 2 3 2 1 1 3 3 3 1 3\n",
      " 2 5 5 6 4 3 2 4 2 4 3 2 2 3 1 6 6 2 2 5 5 4 4 5 1 5 2 6 6 4 5 4 6 5 1 6 6\n",
      " 2 1 2 4 3 3 6 5 4 2 1 1 1 2 6 1 1 3 5 3 4 6 2 5 3 2 6 1 1 1 3 1 3 2 4 4 2\n",
      " 2 4 6 5 1 3 6 2 5 3 4 3 4 3 4 5 2 4 1 4 5 2 4 1 2 6 4 3 2 2 4 2 2 1 6 6 1\n",
      " 5 1 3 1 1 3 1 5 5 2 4 5 5 1 6 2 6 4 4 1 5 4 1 3 3 3 6 3 4 6 3 6 2 1 3 6 6\n",
      " 1 1 2 6 4 4 6 2 3 5 3 4 1 3 2 1 4 2 6 6 6 6 6 3 4 4 4 6 6 2 6 6 4 4 4 5 1\n",
      " 5 3 4 3 3 2 3 4 2 3 5 4 3 3 3 5 2 2 1 1 1 3 6 4 5 3 6 2 5 2 1 2 4 1 3 4 2\n",
      " 6 3 1 6 5 6 6 5 2 2 3 6 2 5 3 6 6 2 4 3 5 4 4 3 6 6 1 6 5 1 1 3 5 2 5 6 1\n",
      " 1 4 4 3 6 3 3 4 4 2 4 2 1 6 2 3 1 2 5 4 5 6 6 1 1 4 2 6 1 3 5 4 6 5 6 2 5\n",
      " 4 6 2 2 3 6 2 4 2 6 4 6 6 4 1 4 6 3 4 6 6 4 5 4 1 6 2 4 6 4 2 5 1 6 3 6 1\n",
      " 4 5 1 1 1 4 5 2 5 3 4 6 5 1 4 6 3 6 5 3 6 5 6 2 6 2 3 6 6 3 3 1 5 1 2 2 5\n",
      " 3 3 2 4 3 2 5 3 2 4 6 1 6 5 4 4 2 1 4 4 3 1 4 5 1 2 4 2 4 6 3 4 6 2 5 1 6\n",
      " 6 6 6 4 1 1 3 2 6 4 4 6 2 1 4 1 5 5 6 5 3 1 6 4 3 6 1 1 3 6 3 3 4 5 1 3 2\n",
      " 1]\n"
     ]
    }
   ],
   "source": [
    "import numpy as np\n",
    "\n",
    "num_array = np.random.randint(1,7,1000)\n",
    "print(num_array)"
   ]
  },
  {
   "cell_type": "markdown",
   "metadata": {},
   "source": [
    "# Count the results using Bin Count\n",
    "* Useful method: numpy.bincount()\n",
    "* Counts the number of times a number appears in a list\n",
    "* Returns an array with counts\n",
    "  * link: https://docs.scipy.org/doc/numpy-1.13.0/reference/generated/numpy.bincount.html"
   ]
  },
  {
   "cell_type": "code",
   "execution_count": 6,
   "metadata": {},
   "outputs": [
    {
     "name": "stdout",
     "output_type": "stream",
     "text": [
      "[  0 169 179 170 163 142 177]\n",
      "The number of 1's is 169\n",
      "The number of 2's is 179\n",
      "The number of 3's is 170\n",
      "The number of 4's is 163\n",
      "The number of 5's is 142\n",
      "The number of 6's is 177\n"
     ]
    }
   ],
   "source": [
    "#np.bincount(array)\n",
    "\n",
    "count_rolls = np.bincount(num_array)\n",
    "print(count_rolls)\n",
    "\n",
    "for i in range(6):\n",
    "    print(\"The number of \" + str(i + 1) + \"'s is \" + str(count_rolls[i + 1]))"
   ]
  },
  {
   "cell_type": "markdown",
   "metadata": {},
   "source": [
    "# Histogram\n",
    "* Useful method: np.random.choice()\n",
    "  * link: https://docs.scipy.org/doc/numpy-1.13.0/reference/generated/numpy.random.choice.html"
   ]
  },
  {
   "cell_type": "code",
   "execution_count": 18,
   "metadata": {},
   "outputs": [
    {
     "data": {
      "text/plain": [
       "Text(0.5,0,'number bins for random numbers')"
      ]
     },
     "execution_count": 18,
     "metadata": {},
     "output_type": "execute_result"
    },
    {
     "data": {
      "image/png": "[encoded data removed]",
      "text/plain": [
       "<Figure size 432x288 with 1 Axes>"
      ]
     },
     "metadata": {},
     "output_type": "display_data"
    }
   ],
   "source": [
    "import matplotlib.pyplot as graph\n",
    "\n",
    "%matplotlib inline\n",
    "\n",
    "# create an array of random nums for graph\n",
    "color_array = [\"green\", \"orange\"]\n",
    "\n",
    "graph.hist(num_array, bins = [1,2,3,4,5,6,7], align = \"mid\", color = np.random.choice(color_array), edgecolor = \"k\")\n",
    "# \"k\" = black\n",
    "graph.title(\"random numbers\")\n",
    "graph.ylabel(\"frequency\")\n",
    "graph.xlabel(\"number bins for random numbers\")"
   ]
  },
  {
   "cell_type": "code",
   "execution_count": 32,
   "metadata": {},
   "outputs": [
    {
     "name": "stdout",
     "output_type": "stream",
     "text": [
      "[4 6 6 3 1 2 1 6 2 4 4 1 6 6 2 4 1 3 3 3 5 1 2 2 6 4 4 1 3 5 6 4 4 2 3 2 6\n",
      " 2 1 2 2 5 6 4 1 1 4 3 5 6 6 4 4 3 5 6 4 3 6 3 3 5 5 1 4 6 2 5 3 2 3 5 4 1\n",
      " 3 6 5 6 2 3 1 5 3 4 4 2 5 4 5 2 4 6 2 6 2 1 6 3 2 1 2 2 1 2 4 4 2 6 2 1 2\n",
      " 6 2 2 6 6 4 4 3 1 5 3 6 3 3 1 5 2 2 1 2 5 6 3 2 3 5 3 6 6 5 4 3 1 2 3 1 5\n",
      " 6 5 2 4 3 3 5 1 6 5 3 3 1 4 4 4 4 1 2 6 1 4 2 4 6 3 4 1 6 4 5 6 6 5 1 4 6\n",
      " 1 1 4 5 2 3 2 6 1 3 4 5 4 5 6 2 1 1 5 5 2 3 5 3 4 5 5 2 5 5 3 2 1 5 6 3 2\n",
      " 6 3 1 3 3 3 5 6 3 4 5 3 2 6 5 4 3 5 2 2 1 5 4 2 6 5 4 2 2 1 6 4 3 2 1 4 1\n",
      " 1 3 3 1 5 2 6 6 5 3 5 3 4 6 4 6 3 1 2 4 5 5 2 2 4 4 3 3 6 1 5 4 5 2 1 5 1\n",
      " 1 5 5 5 6 2 4 4 1 2 5 2 6 2 5 4 1 1 4 4 3 4 6 6 6 6 2 4 6 6 3 2 6 5 6 4 2\n",
      " 5 2 4 2 6 3 1 5 4 1 2 2 3 6 5 2 6 5 6 2 5 1 2 6 1 5 3 1 6 3 4 6 1 2 3 6 6\n",
      " 4 3 2 4 2 6 6 5 4 2 5 1 6 5 6 1 2 4 4 5 5 4 3 2 4 6 1 3 2 2 1 4 4 2 4 4 5\n",
      " 3 5 5 5 5 4 6 3 4 2 3 5 2 1 3 4 3 4 3 4 6 1 2 5 2 6 2 1 1 4 4 1 3 6 1 6 2\n",
      " 5 3 4 2 2 1 5 6 1 3 6 1 2 2 3 2 6 1 6 4 2 6 4 1 5 6 3 5 4 4 1 5 5 2 1 4 5\n",
      " 4 1 5 3 6 3 1 6 5 1 3 2 1 3 2 4 5 3 1 5 1 4 5 6 4 1 4 5 1 6 4 1 2 3 3 6 6\n",
      " 1 4 5 1 3 4 3 2 6 1 5 3 3 6 3 3 6 1 4 5 6 1 2 6 1 6 6 4 6 1 2 4 4 5 3 3 2\n",
      " 2 4 2 4 6 6 4 5 3 2 3 3 4 1 2 5 1 3 3 1 3 5 4 6 6 2 4 2 1 1 3 6 6 3 1 3 5\n",
      " 1 1 2 5 4 4 6 5 3 3 2 6 5 1 1 4 3 4 1 6 6 2 3 1 3 1 2 1 6 6 2 2 3 6 5 3 4\n",
      " 5 5 1 2 2 2 1 5 1 4 1 2 3 6 6 4 1 4 3 5 6 3 5 5 1 6 5 3 3 6 5 2 1 4 2 3 4\n",
      " 4 1 6 2 4 6 1 1 1 2 5 1 5 5 3 5 6 4 6 6 1 1 1 6 5 2 5 2 5 6 3 4 1 3 4 2 3\n",
      " 3 6 2 4 4 6 3 2 5 6 1 6 2 5 1 2 1 3 3 1 3 4 4 4 3 1 3 5 3 5 3 3 1 5 5 6 3\n",
      " 2 5 1 3 3 1 4 6 6 5 6 3 4 3 5 6 3 1 4 1 6 2 1 2 4 4 6 6 3 3 5 3 5 3 4 6 5\n",
      " 3 3 4 2 2 3 3 3 5 2 3 3 5 3 5 2 5 2 4 1 3 3 4 5 2 1 6 4 2 2 3 2 3 4 5 4 4\n",
      " 1 5 3 5 5 3 5 2 6 4 6 3 2 3 2 5 3 1 2 1 6 2 4 4 1 1 4 6 6 5 4 6 1 1 1 6 6\n",
      " 1 3 3 3 4 4 2 3 1 1 2 3 3 4 3 5 6 4 6 4 4 4 3 3 4 6 1 3 3 5 3 6 3 1 6 4 3\n",
      " 6 5 3 2 3 1 5 5 3 5 4 6 6 3 4 6 6 6 5 6 3 4 3 6 3 1 5 2 3 3 2 5 4 2 2 6 2\n",
      " 2 4 3 2 1 1 4 3 6 2 3 4 4 6 2 5 1 3 3 2 5 5 4 6 6 2 6 4 5 3 5 3 3 5 4 2 4\n",
      " 3 1 3 6 3 2 5 5 2 1 5 6 2 4 3 5 4 3 6 4 2 1 6 5 2 3 1 3 6 1 6 1 3 4 3 1 5\n",
      " 4]\n",
      "[  0 155 160 191 167 158 169]\n",
      "504\n",
      "496\n",
      "The number of odd numbers is 504\n",
      "The number of even numbers is 496\n"
     ]
    },
    {
     "data": {
      "text/plain": [
       "Text(0.5, 0, 'number bins for random numbers')"
      ]
     },
     "execution_count": 32,
     "metadata": {},
     "output_type": "execute_result"
    },
    {
     "data": {
      "image/png": "[encoded data removed]",
      "text/plain": [
       "<Figure size 432x288 with 1 Axes>"
      ]
     },
     "metadata": {
      "needs_background": "light"
     },
     "output_type": "display_data"
    }
   ],
   "source": [
    "# Ask an additional question and answer it\n",
    "# State the answer in its own cell\n",
    "# Use visual data to help answer the questions\n",
    "\n",
    "# What are the odds of rolling an odd number vs an even number?\n",
    "\n",
    "import numpy as np\n",
    "\n",
    "num_array = np.random.randint(1,7,1000)\n",
    "print(num_array)\n",
    "\n",
    "count_rolls = np.bincount(num_array)\n",
    "print(count_rolls)\n",
    "\n",
    "odd_rolls = count_rolls[1] + count_rolls[3] + count_rolls[5]\n",
    "print(odd_rolls)\n",
    "\n",
    "even_rolls = count_rolls[2] + count_rolls[4] + count_rolls[6]\n",
    "print(even_rolls)\n",
    "\n",
    "\n",
    "array = []\n",
    "\n",
    "for i in range(odd_rolls):\n",
    "    array.append(1)\n",
    "for i in range(even_rolls):\n",
    "    array.append(0)\n",
    "\n",
    "import matplotlib.pyplot as graph\n",
    "\n",
    "%matplotlib inline\n",
    "\n",
    "# create an array of random nums for graph\n",
    "color_array = [\"green\", \"orange\"]\n",
    "\n",
    "graph.hist(array, bins = [0,1,2], align = \"mid\", color = np.random.choice(color_array), edgecolor = \"k\")\n",
    "# \"k\" = black\n",
    "graph.title(\"random odd numbers vs random even numbers\")\n",
    "graph.ylabel(\"frequency\")\n",
    "graph.xlabel(\"number bins for random numbers\")"
   ]
  },
  {
   "cell_type": "code",
   "execution_count": null,
   "metadata": {},
   "outputs": [],
   "source": []
  }
 ],
 "metadata": {
  "kernelspec": {
   "display_name": "Python 3",
   "language": "python",
   "name": "python3"
  },
  "language_info": {
   "codemirror_mode": {
    "name": "ipython",
    "version": 3
   },
   "file_extension": ".py",
   "mimetype": "text/x-python",
   "name": "python",
   "nbconvert_exporter": "python",
   "pygments_lexer": "ipython3",
   "version": "3.7.1"
  }
 },
 "nbformat": 4,
 "nbformat_minor": 2
}
