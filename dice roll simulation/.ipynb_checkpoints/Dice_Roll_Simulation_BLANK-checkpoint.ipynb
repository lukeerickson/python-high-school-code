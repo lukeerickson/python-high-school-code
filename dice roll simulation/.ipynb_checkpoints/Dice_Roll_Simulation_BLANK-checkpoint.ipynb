{
 "cells": [
  {
   "cell_type": "markdown",
   "metadata": {},
   "source": [
    "# Randomly Generate Dice Rolls\n",
    "* Use numpy.random.randint(min index, max index + 1, times to repeat)\n",
    "* Need numbers between 1 and 6\n",
    "* Need to repeat 1000 times"
   ]
  },
  {
   "cell_type": "code",
   "execution_count": 1,
   "metadata": {},
   "outputs": [
    {
     "name": "stdout",
     "output_type": "stream",
     "text": [
      "[4 6 5 2 1 1 6 4 2 3 2 3 2 3 5 6 4 1 1 1 1 2 3 3 6 1 2 5 5 4 6 1 2 5 4 1 6\n",
      " 4 1 6 3 4 4 2 5 6 6 5 6 6 2 2 3 2 5 6 1 6 1 2 2 5 2 6 4 5 5 3 2 6 3 1 5 3\n",
      " 1 2 6 5 1 5 1 1 4 4 6 1 2 3 5 3 4 1 6 1 2 1 5 3 3 6 6 4 3 2 3 5 5 2 1 5 5\n",
      " 6 6 5 2 2 6 5 3 3 5 1 2 1 2 1 1 4 1 6 5 5 2 3 4 3 1 1 4 5 1 3 5 5 4 2 3 3\n",
      " 5 1 6 2 2 6 2 2 2 3 1 1 2 1 4 2 2 1 4 5 1 3 2 4 4 2 5 2 2 6 6 4 5 4 3 3 6\n",
      " 4 3 1 2 4 4 5 2 2 1 3 1 5 6 6 1 5 5 5 3 4 3 1 6 4 2 4 2 4 1 6 6 3 5 4 5 4\n",
      " 2 3 4 2 1 3 2 3 2 6 2 1 1 2 5 5 6 6 3 2 2 3 4 3 5 2 5 1 4 3 3 1 4 2 2 6 5\n",
      " 4 2 4 1 4 4 2 3 1 4 2 3 6 2 3 3 1 2 4 4 3 1 6 5 2 5 2 4 2 5 2 6 5 1 2 4 1\n",
      " 2 1 5 5 2 2 2 1 1 6 3 1 2 3 5 2 5 1 5 5 2 5 2 6 5 3 6 6 4 4 1 1 3 1 6 2 3\n",
      " 1 6 4 2 3 3 5 2 1 6 2 2 6 4 6 4 3 6 5 4 6 3 3 5 2 4 1 2 5 4 4 5 3 3 2 1 6\n",
      " 2 4 1 2 6 6 1 1 5 1 2 5 2 1 3 6 3 2 2 3 5 3 1 3 1 3 1 1 2 6 6 3 6 3 1 4 1\n",
      " 4 6 1 6 1 4 2 6 6 4 6 3 3 5 4 5 4 4 3 2 1 5 5 3 5 3 3 3 5 5 6 3 6 5 5 6 6\n",
      " 5 3 3 5 4 6 3 5 2 2 4 6 6 2 4 3 1 1 4 3 2 3 1 3 6 3 3 5 3 6 1 3 1 6 6 6 6\n",
      " 6 3 1 3 4 2 1 3 6 2 6 4 2 4 1 3 1 1 2 6 3 1 3 6 3 4 5 2 5 4 4 2 2 5 1 1 4\n",
      " 2 3 4 4 6 2 5 4 4 6 6 3 4 6 4 2 5 1 2 1 5 5 4 3 1 6 6 2 3 2 1 1 3 3 3 1 3\n",
      " 2 5 5 6 4 3 2 4 2 4 3 2 2 3 1 6 6 2 2 5 5 4 4 5 1 5 2 6 6 4 5 4 6 5 1 6 6\n",
      " 2 1 2 4 3 3 6 5 4 2 1 1 1 2 6 1 1 3 5 3 4 6 2 5 3 2 6 1 1 1 3 1 3 2 4 4 2\n",
      " 2 4 6 5 1 3 6 2 5 3 4 3 4 3 4 5 2 4 1 4 5 2 4 1 2 6 4 3 2 2 4 2 2 1 6 6 1\n",
      " 5 1 3 1 1 3 1 5 5 2 4 5 5 1 6 2 6 4 4 1 5 4 1 3 3 3 6 3 4 6 3 6 2 1 3 6 6\n",
      " 1 1 2 6 4 4 6 2 3 5 3 4 1 3 2 1 4 2 6 6 6 6 6 3 4 4 4 6 6 2 6 6 4 4 4 5 1\n",
      " 5 3 4 3 3 2 3 4 2 3 5 4 3 3 3 5 2 2 1 1 1 3 6 4 5 3 6 2 5 2 1 2 4 1 3 4 2\n",
      " 6 3 1 6 5 6 6 5 2 2 3 6 2 5 3 6 6 2 4 3 5 4 4 3 6 6 1 6 5 1 1 3 5 2 5 6 1\n",
      " 1 4 4 3 6 3 3 4 4 2 4 2 1 6 2 3 1 2 5 4 5 6 6 1 1 4 2 6 1 3 5 4 6 5 6 2 5\n",
      " 4 6 2 2 3 6 2 4 2 6 4 6 6 4 1 4 6 3 4 6 6 4 5 4 1 6 2 4 6 4 2 5 1 6 3 6 1\n",
      " 4 5 1 1 1 4 5 2 5 3 4 6 5 1 4 6 3 6 5 3 6 5 6 2 6 2 3 6 6 3 3 1 5 1 2 2 5\n",
      " 3 3 2 4 3 2 5 3 2 4 6 1 6 5 4 4 2 1 4 4 3 1 4 5 1 2 4 2 4 6 3 4 6 2 5 1 6\n",
      " 6 6 6 4 1 1 3 2 6 4 4 6 2 1 4 1 5 5 6 5 3 1 6 4 3 6 1 1 3 6 3 3 4 5 1 3 2\n",
      " 1]\n"
     ]
    }
   ],
   "source": [
    "import numpy as np\n",
    "\n",
    "num_array = np.random.randint(1,7,1000)\n",
    "print(num_array)"
   ]
  },
  {
   "cell_type": "markdown",
   "metadata": {},
   "source": [
    "# Count the results using Bin Count\n",
    "* Useful method: numpy.bincount()\n",
    "* Counts the number of times a number appears in a list\n",
    "* Returns an array with counts\n",
    "  * link: https://docs.scipy.org/doc/numpy-1.13.0/reference/generated/numpy.bincount.html"
   ]
  },
  {
   "cell_type": "code",
   "execution_count": null,
   "metadata": {
    "collapsed": true
   },
   "outputs": [],
   "source": []
  },
  {
   "cell_type": "markdown",
   "metadata": {},
   "source": [
    "# Histogram\n",
    "* Useful method: np.random.choice()\n",
    "  * link: https://docs.scipy.org/doc/numpy-1.13.0/reference/generated/numpy.random.choice.html"
   ]
  },
  {
   "cell_type": "code",
   "execution_count": null,
   "metadata": {
    "collapsed": true
   },
   "outputs": [],
   "source": []
  }
 ],
 "metadata": {
  "kernelspec": {
   "display_name": "Python 3",
   "language": "python",
   "name": "python3"
  },
  "language_info": {
   "codemirror_mode": {
    "name": "ipython",
    "version": 3
   },
   "file_extension": ".py",
   "mimetype": "text/x-python",
   "name": "python",
   "nbconvert_exporter": "python",
   "pygments_lexer": "ipython3",
   "version": "3.6.5"
  }
 },
 "nbformat": 4,
 "nbformat_minor": 2
}
