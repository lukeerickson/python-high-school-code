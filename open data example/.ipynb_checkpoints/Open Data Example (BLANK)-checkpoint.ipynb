{
 "cells": [
  {
   "cell_type": "markdown",
   "metadata": {},
   "source": [
    "# Open Data Example #1: City of Chicago Salaries\n",
    "\n",
    "_Source for Data Set:_ City of Chicago Department of Human Resources\n",
    "\n",
    "_URL for Data Set:_ https://data.cityofchicago.org/Administration-Finance/Current-Employee-Names-Salaries-and-Position-Title/xzkq-xp2w\n",
    "\n",
    "_Description of Data Set:_ \"This dataset is a listing of all current City of Chicago employees, complete with full names, departments, positions, and annual salaries. For hourly employees the annual salary is estimated.\" (Description written by City of Chicago) \n",
    "\n",
    "_File Format for Data Set:_ CSV file (Comma Separated Values)\n",
    "\n",
    "_Age of Data Set:_ Last updated January 30, 2018"
   ]
  },
  {
   "cell_type": "markdown",
   "metadata": {},
   "source": [
    "### Import CSV File"
   ]
  },
  {
   "cell_type": "code",
   "execution_count": 1,
   "metadata": {},
   "outputs": [
    {
     "data": {
      "text/html": [
       "<div>\n",
       "<style scoped>\n",
       "    .dataframe tbody tr th:only-of-type {\n",
       "        vertical-align: middle;\n",
       "    }\n",
       "\n",
       "    .dataframe tbody tr th {\n",
       "        vertical-align: top;\n",
       "    }\n",
       "\n",
       "    .dataframe thead th {\n",
       "        text-align: right;\n",
       "    }\n",
       "</style>\n",
       "<table border=\"1\" class=\"dataframe\">\n",
       "  <thead>\n",
       "    <tr style=\"text-align: right;\">\n",
       "      <th></th>\n",
       "      <th>Name</th>\n",
       "      <th>Job Titles</th>\n",
       "      <th>Department</th>\n",
       "      <th>Full or Part-Time</th>\n",
       "      <th>Salary or Hourly</th>\n",
       "      <th>Typical Hours</th>\n",
       "      <th>Annual Salary</th>\n",
       "      <th>Hourly Rate</th>\n",
       "    </tr>\n",
       "  </thead>\n",
       "  <tbody>\n",
       "    <tr>\n",
       "      <th>32809</th>\n",
       "      <td>ZYMANTAS,  MARK E</td>\n",
       "      <td>POLICE OFFICER</td>\n",
       "      <td>POLICE</td>\n",
       "      <td>F</td>\n",
       "      <td>Salary</td>\n",
       "      <td>NaN</td>\n",
       "      <td>$87006.00</td>\n",
       "      <td>NaN</td>\n",
       "    </tr>\n",
       "    <tr>\n",
       "      <th>32810</th>\n",
       "      <td>ZYRKOWSKI,  CARLO E</td>\n",
       "      <td>POLICE OFFICER</td>\n",
       "      <td>POLICE</td>\n",
       "      <td>F</td>\n",
       "      <td>Salary</td>\n",
       "      <td>NaN</td>\n",
       "      <td>$93354.00</td>\n",
       "      <td>NaN</td>\n",
       "    </tr>\n",
       "    <tr>\n",
       "      <th>32811</th>\n",
       "      <td>ZYSKOWSKI,  DARIUSZ</td>\n",
       "      <td>CHIEF DATA BASE ANALYST</td>\n",
       "      <td>DoIT</td>\n",
       "      <td>F</td>\n",
       "      <td>Salary</td>\n",
       "      <td>NaN</td>\n",
       "      <td>$115932.00</td>\n",
       "      <td>NaN</td>\n",
       "    </tr>\n",
       "  </tbody>\n",
       "</table>\n",
       "</div>"
      ],
      "text/plain": [
       "                       Name               Job Titles Department  \\\n",
       "32809     ZYMANTAS,  MARK E           POLICE OFFICER     POLICE   \n",
       "32810   ZYRKOWSKI,  CARLO E           POLICE OFFICER     POLICE   \n",
       "32811  ZYSKOWSKI,  DARIUSZ   CHIEF DATA BASE ANALYST       DoIT   \n",
       "\n",
       "      Full or Part-Time Salary or Hourly  Typical Hours Annual Salary  \\\n",
       "32809                 F           Salary            NaN     $87006.00   \n",
       "32810                 F           Salary            NaN     $93354.00   \n",
       "32811                 F           Salary            NaN    $115932.00   \n",
       "\n",
       "      Hourly Rate  \n",
       "32809         NaN  \n",
       "32810         NaN  \n",
       "32811         NaN  "
      ]
     },
     "execution_count": 1,
     "metadata": {},
     "output_type": "execute_result"
    }
   ],
   "source": [
    "# Import pandas module\n",
    "import pandas as pd\n",
    "\n",
    "# Read in the csv file (comma separated values)\n",
    "salary_DF = pd.read_csv(\"Salaries 2019.csv\")\n",
    "\n",
    "# Print the last three entries of the file\n",
    "    # The last line of a cell will print automatically!\n",
    "    # Can sometimes display data differently\n",
    "salary_DF[-3:]"
   ]
  },
  {
   "cell_type": "markdown",
   "metadata": {},
   "source": [
    "Sometimes, the last entry (or the last few entries) in a dataset may be erroneous. Use code similar to below to eliminate them.\n",
    "\n",
    "salary_DF = salary_DF.drop(salary_DF.index[-1])"
   ]
  },
  {
   "cell_type": "markdown",
   "metadata": {},
   "source": [
    "### Question: How many employees are paid by the City of Chicago?"
   ]
  },
  {
   "cell_type": "code",
   "execution_count": 2,
   "metadata": {},
   "outputs": [
    {
     "data": {
      "text/plain": [
       "32812"
      ]
     },
     "execution_count": 2,
     "metadata": {},
     "output_type": "execute_result"
    }
   ],
   "source": [
    "# Print the length of the data fram\n",
    "len(salary_DF)"
   ]
  },
  {
   "cell_type": "markdown",
   "metadata": {},
   "source": [
    "### Modify Data: Create a List of Salaries"
   ]
  },
  {
   "cell_type": "code",
   "execution_count": 4,
   "metadata": {},
   "outputs": [
    {
     "data": {
      "text/plain": [
       "0    $101442.00\n",
       "1     $94122.00\n",
       "2    $101592.00\n",
       "Name: Annual Salary, dtype: object"
      ]
     },
     "execution_count": 4,
     "metadata": {},
     "output_type": "execute_result"
    }
   ],
   "source": [
    "# Store all values from the \"Annual Salary\" column\n",
    "salary_list = salary_DF[\"Annual Salary\"]\n",
    "\n",
    "# Print the first 3 entries\n",
    "salary_list[:3]"
   ]
  },
  {
   "cell_type": "markdown",
   "metadata": {},
   "source": [
    "### Modify Data to be Usable\n",
    "\n",
    "Step 1: Clean data by deleting dollar signs, '$', from the salaries and replace any empty strings with a salary of '0.00' dollars per year.\n",
    "\n",
    "Step 2: Create a list with only salaries, converted from strings to floating point numbers. For example, the string '84450.0' becomes the floating point number 84450.0."
   ]
  },
  {
   "cell_type": "code",
   "execution_count": 5,
   "metadata": {},
   "outputs": [
    {
     "data": {
      "text/plain": [
       "32808     48078.0\n",
       "32809     87006.0\n",
       "32810     93354.0\n",
       "32811    115932.0\n",
       "Name: Annual Salary, dtype: float64"
      ]
     },
     "execution_count": 5,
     "metadata": {},
     "output_type": "execute_result"
    }
   ],
   "source": [
    "# Delete '$'\n",
    "salary_list = salary_list.str.replace(\"$\",\"\")\n",
    "\n",
    "# Convert to floating point number\n",
    "    # Empty cells --> 0.00\n",
    "salary_list = salary_list.astype(float)\n",
    "\n",
    "# Print the last 4 entries\n",
    "salary_list[-4:]"
   ]
  },
  {
   "cell_type": "markdown",
   "metadata": {},
   "source": [
    "It might come in handy later to have our salaries as floating point numbers. Let's replace the old column in our dataframe (string data) and replace it with our new one (floating point numbers):"
   ]
  },
  {
   "cell_type": "code",
   "execution_count": 6,
   "metadata": {},
   "outputs": [
    {
     "data": {
      "text/html": [
       "<div>\n",
       "<style scoped>\n",
       "    .dataframe tbody tr th:only-of-type {\n",
       "        vertical-align: middle;\n",
       "    }\n",
       "\n",
       "    .dataframe tbody tr th {\n",
       "        vertical-align: top;\n",
       "    }\n",
       "\n",
       "    .dataframe thead th {\n",
       "        text-align: right;\n",
       "    }\n",
       "</style>\n",
       "<table border=\"1\" class=\"dataframe\">\n",
       "  <thead>\n",
       "    <tr style=\"text-align: right;\">\n",
       "      <th></th>\n",
       "      <th>Name</th>\n",
       "      <th>Job Titles</th>\n",
       "      <th>Department</th>\n",
       "      <th>Full or Part-Time</th>\n",
       "      <th>Salary or Hourly</th>\n",
       "      <th>Typical Hours</th>\n",
       "      <th>Hourly Rate</th>\n",
       "      <th>Annual Salary</th>\n",
       "    </tr>\n",
       "  </thead>\n",
       "  <tbody>\n",
       "    <tr>\n",
       "      <th>0</th>\n",
       "      <td>AARON,  JEFFERY M</td>\n",
       "      <td>SERGEANT</td>\n",
       "      <td>POLICE</td>\n",
       "      <td>F</td>\n",
       "      <td>Salary</td>\n",
       "      <td>NaN</td>\n",
       "      <td>NaN</td>\n",
       "      <td>101442.0</td>\n",
       "    </tr>\n",
       "    <tr>\n",
       "      <th>1</th>\n",
       "      <td>AARON,  KARINA</td>\n",
       "      <td>POLICE OFFICER (ASSIGNED AS DETECTIVE)</td>\n",
       "      <td>POLICE</td>\n",
       "      <td>F</td>\n",
       "      <td>Salary</td>\n",
       "      <td>NaN</td>\n",
       "      <td>NaN</td>\n",
       "      <td>94122.0</td>\n",
       "    </tr>\n",
       "    <tr>\n",
       "      <th>2</th>\n",
       "      <td>AARON,  KIMBERLEI R</td>\n",
       "      <td>CHIEF CONTRACT EXPEDITER</td>\n",
       "      <td>GENERAL SERVICES</td>\n",
       "      <td>F</td>\n",
       "      <td>Salary</td>\n",
       "      <td>NaN</td>\n",
       "      <td>NaN</td>\n",
       "      <td>101592.0</td>\n",
       "    </tr>\n",
       "    <tr>\n",
       "      <th>3</th>\n",
       "      <td>ABAD JR,  VICENTE M</td>\n",
       "      <td>CIVIL ENGINEER IV</td>\n",
       "      <td>WATER MGMNT</td>\n",
       "      <td>F</td>\n",
       "      <td>Salary</td>\n",
       "      <td>NaN</td>\n",
       "      <td>NaN</td>\n",
       "      <td>110064.0</td>\n",
       "    </tr>\n",
       "    <tr>\n",
       "      <th>4</th>\n",
       "      <td>ABARCA,  EMMANUEL</td>\n",
       "      <td>CONCRETE LABORER</td>\n",
       "      <td>TRANSPORTN</td>\n",
       "      <td>F</td>\n",
       "      <td>Hourly</td>\n",
       "      <td>40.0</td>\n",
       "      <td>$36.18</td>\n",
       "      <td>NaN</td>\n",
       "    </tr>\n",
       "    <tr>\n",
       "      <th>5</th>\n",
       "      <td>ABASCAL,  REECE E</td>\n",
       "      <td>TRAFFIC CONTROL AIDE-HOURLY</td>\n",
       "      <td>OEMC</td>\n",
       "      <td>P</td>\n",
       "      <td>Hourly</td>\n",
       "      <td>20.0</td>\n",
       "      <td>$19.86</td>\n",
       "      <td>NaN</td>\n",
       "    </tr>\n",
       "    <tr>\n",
       "      <th>6</th>\n",
       "      <td>ABBASI,  CHRISTOPHER</td>\n",
       "      <td>STAFF ASST TO THE ALDERMAN</td>\n",
       "      <td>CITY COUNCIL</td>\n",
       "      <td>F</td>\n",
       "      <td>Salary</td>\n",
       "      <td>NaN</td>\n",
       "      <td>NaN</td>\n",
       "      <td>50436.0</td>\n",
       "    </tr>\n",
       "    <tr>\n",
       "      <th>7</th>\n",
       "      <td>ABBATACOLA,  ROBERT J</td>\n",
       "      <td>ELECTRICAL MECHANIC</td>\n",
       "      <td>AVIATION</td>\n",
       "      <td>F</td>\n",
       "      <td>Hourly</td>\n",
       "      <td>40.0</td>\n",
       "      <td>$46.10</td>\n",
       "      <td>NaN</td>\n",
       "    </tr>\n",
       "    <tr>\n",
       "      <th>8</th>\n",
       "      <td>ABBATE,  JOSEPH L</td>\n",
       "      <td>POOL MOTOR TRUCK DRIVER</td>\n",
       "      <td>STREETS &amp; SAN</td>\n",
       "      <td>F</td>\n",
       "      <td>Hourly</td>\n",
       "      <td>40.0</td>\n",
       "      <td>$35.60</td>\n",
       "      <td>NaN</td>\n",
       "    </tr>\n",
       "    <tr>\n",
       "      <th>9</th>\n",
       "      <td>ABBATEMARCO,  JAMES J</td>\n",
       "      <td>FIRE ENGINEER-EMT</td>\n",
       "      <td>FIRE</td>\n",
       "      <td>F</td>\n",
       "      <td>Salary</td>\n",
       "      <td>NaN</td>\n",
       "      <td>NaN</td>\n",
       "      <td>103350.0</td>\n",
       "    </tr>\n",
       "  </tbody>\n",
       "</table>\n",
       "</div>"
      ],
      "text/plain": [
       "                    Name                              Job Titles  \\\n",
       "0      AARON,  JEFFERY M                                SERGEANT   \n",
       "1        AARON,  KARINA   POLICE OFFICER (ASSIGNED AS DETECTIVE)   \n",
       "2    AARON,  KIMBERLEI R                CHIEF CONTRACT EXPEDITER   \n",
       "3    ABAD JR,  VICENTE M                       CIVIL ENGINEER IV   \n",
       "4     ABARCA,  EMMANUEL                         CONCRETE LABORER   \n",
       "5      ABASCAL,  REECE E             TRAFFIC CONTROL AIDE-HOURLY   \n",
       "6  ABBASI,  CHRISTOPHER               STAFF ASST TO THE ALDERMAN   \n",
       "7  ABBATACOLA,  ROBERT J                     ELECTRICAL MECHANIC   \n",
       "8     ABBATE,  JOSEPH L                  POOL MOTOR TRUCK DRIVER   \n",
       "9  ABBATEMARCO,  JAMES J                       FIRE ENGINEER-EMT   \n",
       "\n",
       "         Department Full or Part-Time Salary or Hourly  Typical Hours  \\\n",
       "0            POLICE                 F           Salary            NaN   \n",
       "1            POLICE                 F           Salary            NaN   \n",
       "2  GENERAL SERVICES                 F           Salary            NaN   \n",
       "3       WATER MGMNT                 F           Salary            NaN   \n",
       "4        TRANSPORTN                 F           Hourly           40.0   \n",
       "5              OEMC                 P           Hourly           20.0   \n",
       "6      CITY COUNCIL                 F           Salary            NaN   \n",
       "7          AVIATION                 F           Hourly           40.0   \n",
       "8     STREETS & SAN                 F           Hourly           40.0   \n",
       "9              FIRE                 F           Salary            NaN   \n",
       "\n",
       "  Hourly Rate  Annual Salary  \n",
       "0         NaN       101442.0  \n",
       "1         NaN        94122.0  \n",
       "2         NaN       101592.0  \n",
       "3         NaN       110064.0  \n",
       "4      $36.18            NaN  \n",
       "5      $19.86            NaN  \n",
       "6         NaN        50436.0  \n",
       "7      $46.10            NaN  \n",
       "8      $35.60            NaN  \n",
       "9         NaN       103350.0  "
      ]
     },
     "execution_count": 6,
     "metadata": {},
     "output_type": "execute_result"
    }
   ],
   "source": [
    "# Delete the data in \"Annual Salary\" column\n",
    "del salary_DF[\"Annual Salary\"]\n",
    "\n",
    "# Replace with new data\n",
    "salary_DF[\"Annual Salary\"] = salary_list\n",
    "\n",
    "# Print first 10 entries\n",
    "salary_DF[:10]"
   ]
  },
  {
   "cell_type": "markdown",
   "metadata": {},
   "source": [
    "### Modify Data: Convert to a Numpy Number Array"
   ]
  },
  {
   "cell_type": "code",
   "execution_count": 7,
   "metadata": {},
   "outputs": [
    {
     "data": {
      "text/plain": [
       "array([ 84054.,  68616.,  84054.,  90024.,     nan,  92274., 114324.,\n",
       "        76266.,     nan,  76896.,  96060.,     nan,  89076.,  76266.,\n",
       "        76932.,     nan,     nan,  90024., 114324.,  72510.,  84054.,\n",
       "           nan,     nan,  48078.,  72510.,  72510.,  48078.,  87006.,\n",
       "        93354., 115932.])"
      ]
     },
     "execution_count": 7,
     "metadata": {},
     "output_type": "execute_result"
    }
   ],
   "source": [
    "# Import numpy\n",
    "import numpy as np\n",
    "\n",
    "# Convert data to a numpy array\n",
    "salary_array = np.array(salary_list)\n",
    "\n",
    "# Print the last 30 values\n",
    "salary_array[-30:]"
   ]
  },
  {
   "cell_type": "markdown",
   "metadata": {},
   "source": [
    "Look closely at this output, and you'll spot a problem: \n",
    "\n",
    "Some of our values are listed as \"nan\" or \"not a number.\" If we are going to do some mathematical calculations with this data, we're going to need to clean the data by removing all instances of \"nan.\" \n",
    "\n",
    "_Note: There may be several reasons why the dataset contains \"nan\" values. In some cases, an employee's salary data might be missing, there may have been a data entry error, an employee may have gone unpaid for a year because of an extended leave, or the employee may be working on a volunteer basis. Since there's no way to know how to interpret these values, it is best for us to do some data cleaning and remove them._ "
   ]
  },
  {
   "cell_type": "code",
   "execution_count": 8,
   "metadata": {},
   "outputs": [
    {
     "data": {
      "text/plain": [
       "array([ 76266.,  86748.,  97386.,  56304.,  87006.,  83136.,  87006.,\n",
       "        84054.,  68616.,  84054.,  90024.,  92274., 114324.,  76266.,\n",
       "        76896.,  96060.,  89076.,  76266.,  76932.,  90024., 114324.,\n",
       "        72510.,  84054.,  48078.,  72510.,  72510.,  48078.,  87006.,\n",
       "        93354., 115932.])"
      ]
     },
     "execution_count": 8,
     "metadata": {},
     "output_type": "execute_result"
    }
   ],
   "source": [
    "# Import numpy as np\n",
    "import numpy as np\n",
    "\n",
    "# Eliminate the NaN entries\n",
    "    # the ~ symbol is interpreted by numpy as \"not\"\n",
    "salary_array = salary_array[~np.isnan(salary_array)]\n",
    "\n",
    "# Print the last 30 entries\n",
    "salary_array[-30:]"
   ]
  },
  {
   "cell_type": "markdown",
   "metadata": {},
   "source": [
    "### Question: What is the average salary for city employees?"
   ]
  },
  {
   "cell_type": "code",
   "execution_count": 10,
   "metadata": {},
   "outputs": [
    {
     "data": {
      "text/plain": [
       "87313.95918720691"
      ]
     },
     "execution_count": 10,
     "metadata": {},
     "output_type": "execute_result"
    }
   ],
   "source": [
    "# Calculate the average\n",
    "average = np.average(salary_array)\n",
    "average"
   ]
  },
  {
   "cell_type": "markdown",
   "metadata": {},
   "source": [
    "### Question: What is the median salary for city employees?"
   ]
  },
  {
   "cell_type": "code",
   "execution_count": 15,
   "metadata": {},
   "outputs": [
    {
     "data": {
      "text/plain": [
       "90024.0"
      ]
     },
     "execution_count": 15,
     "metadata": {},
     "output_type": "execute_result"
    }
   ],
   "source": [
    "# Find the median value\n",
    "median = np.median(salary_array)\n",
    "median"
   ]
  },
  {
   "cell_type": "markdown",
   "metadata": {},
   "source": [
    "### Question: What is the number of city employees?"
   ]
  },
  {
   "cell_type": "code",
   "execution_count": 16,
   "metadata": {},
   "outputs": [
    {
     "data": {
      "text/plain": [
       "24951"
      ]
     },
     "execution_count": 16,
     "metadata": {},
     "output_type": "execute_result"
    }
   ],
   "source": [
    "# Find the size length of the array\n",
    "len(salary_array)"
   ]
  },
  {
   "cell_type": "markdown",
   "metadata": {},
   "source": [
    "### Question: What is the standard deviation of city employee salaries?"
   ]
  },
  {
   "cell_type": "code",
   "execution_count": 17,
   "metadata": {},
   "outputs": [
    {
     "data": {
      "text/plain": [
       "20780.299002070202"
      ]
     },
     "execution_count": 17,
     "metadata": {},
     "output_type": "execute_result"
    }
   ],
   "source": [
    "# Find the standard deviation\n",
    "standard_dev = np.std(salary_array)\n",
    "standard_dev"
   ]
  },
  {
   "cell_type": "markdown",
   "metadata": {},
   "source": [
    "### Question: What is the highest salary among city employees?"
   ]
  },
  {
   "cell_type": "code",
   "execution_count": 18,
   "metadata": {},
   "outputs": [
    {
     "data": {
      "text/plain": [
       "300000.0"
      ]
     },
     "execution_count": 18,
     "metadata": {},
     "output_type": "execute_result"
    }
   ],
   "source": [
    "# Find the max value\n",
    "highest = np.amax(salary_array)\n",
    "highest"
   ]
  },
  {
   "cell_type": "markdown",
   "metadata": {},
   "source": [
    "### Question: The highest paid employee of the City of Chicago makes $300,000 a year. Who is it?"
   ]
  },
  {
   "cell_type": "code",
   "execution_count": 19,
   "metadata": {},
   "outputs": [
    {
     "data": {
      "text/html": [
       "<div>\n",
       "<style scoped>\n",
       "    .dataframe tbody tr th:only-of-type {\n",
       "        vertical-align: middle;\n",
       "    }\n",
       "\n",
       "    .dataframe tbody tr th {\n",
       "        vertical-align: top;\n",
       "    }\n",
       "\n",
       "    .dataframe thead th {\n",
       "        text-align: right;\n",
       "    }\n",
       "</style>\n",
       "<table border=\"1\" class=\"dataframe\">\n",
       "  <thead>\n",
       "    <tr style=\"text-align: right;\">\n",
       "      <th></th>\n",
       "      <th>Name</th>\n",
       "      <th>Job Titles</th>\n",
       "      <th>Department</th>\n",
       "      <th>Full or Part-Time</th>\n",
       "      <th>Salary or Hourly</th>\n",
       "      <th>Typical Hours</th>\n",
       "      <th>Hourly Rate</th>\n",
       "      <th>Annual Salary</th>\n",
       "    </tr>\n",
       "  </thead>\n",
       "  <tbody>\n",
       "    <tr>\n",
       "      <th>8315</th>\n",
       "      <td>EVANS,  GINGER S</td>\n",
       "      <td>COMMISSIONER OF AVIATION</td>\n",
       "      <td>AVIATION</td>\n",
       "      <td>F</td>\n",
       "      <td>Salary</td>\n",
       "      <td>NaN</td>\n",
       "      <td>NaN</td>\n",
       "      <td>300000.0</td>\n",
       "    </tr>\n",
       "  </tbody>\n",
       "</table>\n",
       "</div>"
      ],
      "text/plain": [
       "                  Name                Job Titles Department Full or Part-Time  \\\n",
       "8315  EVANS,  GINGER S  COMMISSIONER OF AVIATION   AVIATION                 F   \n",
       "\n",
       "     Salary or Hourly  Typical Hours Hourly Rate  Annual Salary  \n",
       "8315           Salary            NaN         NaN       300000.0  "
      ]
     },
     "execution_count": 19,
     "metadata": {},
     "output_type": "execute_result"
    }
   ],
   "source": [
    "# Sort the array in ascending order\n",
    "sorted_DF = salary_DF.sort_values(\"Annual Salary\", ascending = 0)\n",
    "\n",
    "# Print first entry only\n",
    "sorted_DF[:1]"
   ]
  },
  {
   "cell_type": "markdown",
   "metadata": {},
   "source": [
    "### Question: Who earns the top 10 salaries in the City of Chicago?"
   ]
  },
  {
   "cell_type": "code",
   "execution_count": 21,
   "metadata": {},
   "outputs": [
    {
     "data": {
      "text/html": [
       "<div>\n",
       "<style scoped>\n",
       "    .dataframe tbody tr th:only-of-type {\n",
       "        vertical-align: middle;\n",
       "    }\n",
       "\n",
       "    .dataframe tbody tr th {\n",
       "        vertical-align: top;\n",
       "    }\n",
       "\n",
       "    .dataframe thead th {\n",
       "        text-align: right;\n",
       "    }\n",
       "</style>\n",
       "<table border=\"1\" class=\"dataframe\">\n",
       "  <thead>\n",
       "    <tr style=\"text-align: right;\">\n",
       "      <th></th>\n",
       "      <th>Name</th>\n",
       "      <th>Job Titles</th>\n",
       "      <th>Department</th>\n",
       "      <th>Full or Part-Time</th>\n",
       "      <th>Salary or Hourly</th>\n",
       "      <th>Typical Hours</th>\n",
       "      <th>Hourly Rate</th>\n",
       "      <th>Annual Salary</th>\n",
       "    </tr>\n",
       "  </thead>\n",
       "  <tbody>\n",
       "    <tr>\n",
       "      <th>8315</th>\n",
       "      <td>EVANS,  GINGER S</td>\n",
       "      <td>COMMISSIONER OF AVIATION</td>\n",
       "      <td>AVIATION</td>\n",
       "      <td>F</td>\n",
       "      <td>Salary</td>\n",
       "      <td>NaN</td>\n",
       "      <td>NaN</td>\n",
       "      <td>300000.0</td>\n",
       "    </tr>\n",
       "    <tr>\n",
       "      <th>13985</th>\n",
       "      <td>JOHNSON,  EDDIE T</td>\n",
       "      <td>SUPERINTENDENT OF POLICE</td>\n",
       "      <td>POLICE</td>\n",
       "      <td>F</td>\n",
       "      <td>Salary</td>\n",
       "      <td>NaN</td>\n",
       "      <td>NaN</td>\n",
       "      <td>260004.0</td>\n",
       "    </tr>\n",
       "    <tr>\n",
       "      <th>8083</th>\n",
       "      <td>EMANUEL,  RAHM</td>\n",
       "      <td>MAYOR</td>\n",
       "      <td>MAYOR'S OFFICE</td>\n",
       "      <td>F</td>\n",
       "      <td>Salary</td>\n",
       "      <td>NaN</td>\n",
       "      <td>NaN</td>\n",
       "      <td>216210.0</td>\n",
       "    </tr>\n",
       "    <tr>\n",
       "      <th>26099</th>\n",
       "      <td>SANTIAGO,  JOSE A</td>\n",
       "      <td>FIRE COMMISSIONER</td>\n",
       "      <td>FIRE</td>\n",
       "      <td>F</td>\n",
       "      <td>Salary</td>\n",
       "      <td>NaN</td>\n",
       "      <td>NaN</td>\n",
       "      <td>202728.0</td>\n",
       "    </tr>\n",
       "    <tr>\n",
       "      <th>9075</th>\n",
       "      <td>FORD II,  RICHARD C</td>\n",
       "      <td>FIRST DEPUTY FIRE COMMISSIONER</td>\n",
       "      <td>FIRE</td>\n",
       "      <td>F</td>\n",
       "      <td>Salary</td>\n",
       "      <td>NaN</td>\n",
       "      <td>NaN</td>\n",
       "      <td>197736.0</td>\n",
       "    </tr>\n",
       "    <tr>\n",
       "      <th>20706</th>\n",
       "      <td>NAVARRO,  KEVIN B</td>\n",
       "      <td>FIRST DEPUTY SUPERINTENDENT</td>\n",
       "      <td>POLICE</td>\n",
       "      <td>F</td>\n",
       "      <td>Salary</td>\n",
       "      <td>NaN</td>\n",
       "      <td>NaN</td>\n",
       "      <td>197724.0</td>\n",
       "    </tr>\n",
       "    <tr>\n",
       "      <th>6641</th>\n",
       "      <td>DEAL,  AARON J</td>\n",
       "      <td>CHIEF OF STAFF</td>\n",
       "      <td>MAYOR'S OFFICE</td>\n",
       "      <td>F</td>\n",
       "      <td>Salary</td>\n",
       "      <td>NaN</td>\n",
       "      <td>NaN</td>\n",
       "      <td>195000.0</td>\n",
       "    </tr>\n",
       "    <tr>\n",
       "      <th>30160</th>\n",
       "      <td>VASQUEZ,  ANTHONY P</td>\n",
       "      <td>DEPUTY FIRE COMMISSIONER</td>\n",
       "      <td>FIRE</td>\n",
       "      <td>F</td>\n",
       "      <td>Salary</td>\n",
       "      <td>NaN</td>\n",
       "      <td>NaN</td>\n",
       "      <td>187680.0</td>\n",
       "    </tr>\n",
       "    <tr>\n",
       "      <th>20945</th>\n",
       "      <td>NIELSEN,  MARK A</td>\n",
       "      <td>DEPUTY FIRE COMMISSIONER</td>\n",
       "      <td>FIRE</td>\n",
       "      <td>F</td>\n",
       "      <td>Salary</td>\n",
       "      <td>NaN</td>\n",
       "      <td>NaN</td>\n",
       "      <td>187680.0</td>\n",
       "    </tr>\n",
       "    <tr>\n",
       "      <th>3774</th>\n",
       "      <td>CALLAHAN,  MICHAEL E</td>\n",
       "      <td>DEPUTY FIRE COMMISSIONER</td>\n",
       "      <td>FIRE</td>\n",
       "      <td>F</td>\n",
       "      <td>Salary</td>\n",
       "      <td>NaN</td>\n",
       "      <td>NaN</td>\n",
       "      <td>187680.0</td>\n",
       "    </tr>\n",
       "  </tbody>\n",
       "</table>\n",
       "</div>"
      ],
      "text/plain": [
       "                       Name                      Job Titles      Department  \\\n",
       "8315       EVANS,  GINGER S        COMMISSIONER OF AVIATION        AVIATION   \n",
       "13985     JOHNSON,  EDDIE T        SUPERINTENDENT OF POLICE          POLICE   \n",
       "8083        EMANUEL,  RAHM                            MAYOR  MAYOR'S OFFICE   \n",
       "26099     SANTIAGO,  JOSE A               FIRE COMMISSIONER            FIRE   \n",
       "9075    FORD II,  RICHARD C  FIRST DEPUTY FIRE COMMISSIONER            FIRE   \n",
       "20706     NAVARRO,  KEVIN B     FIRST DEPUTY SUPERINTENDENT          POLICE   \n",
       "6641         DEAL,  AARON J                  CHIEF OF STAFF  MAYOR'S OFFICE   \n",
       "30160   VASQUEZ,  ANTHONY P        DEPUTY FIRE COMMISSIONER            FIRE   \n",
       "20945      NIELSEN,  MARK A        DEPUTY FIRE COMMISSIONER            FIRE   \n",
       "3774   CALLAHAN,  MICHAEL E        DEPUTY FIRE COMMISSIONER            FIRE   \n",
       "\n",
       "      Full or Part-Time Salary or Hourly  Typical Hours Hourly Rate  \\\n",
       "8315                  F           Salary            NaN         NaN   \n",
       "13985                 F           Salary            NaN         NaN   \n",
       "8083                  F           Salary            NaN         NaN   \n",
       "26099                 F           Salary            NaN         NaN   \n",
       "9075                  F           Salary            NaN         NaN   \n",
       "20706                 F           Salary            NaN         NaN   \n",
       "6641                  F           Salary            NaN         NaN   \n",
       "30160                 F           Salary            NaN         NaN   \n",
       "20945                 F           Salary            NaN         NaN   \n",
       "3774                  F           Salary            NaN         NaN   \n",
       "\n",
       "       Annual Salary  \n",
       "8315        300000.0  \n",
       "13985       260004.0  \n",
       "8083        216210.0  \n",
       "26099       202728.0  \n",
       "9075        197736.0  \n",
       "20706       197724.0  \n",
       "6641        195000.0  \n",
       "30160       187680.0  \n",
       "20945       187680.0  \n",
       "3774        187680.0  "
      ]
     },
     "execution_count": 21,
     "metadata": {},
     "output_type": "execute_result"
    }
   ],
   "source": [
    "# Print the first 10 entries of the sorted array\n",
    "sorted_DF[:10]"
   ]
  },
  {
   "cell_type": "markdown",
   "metadata": {
    "collapsed": true
   },
   "source": [
    "### Visualization: Histogram of Salaries"
   ]
  },
  {
   "cell_type": "code",
   "execution_count": 23,
   "metadata": {},
   "outputs": [
    {
     "data": {
      "image/png": "[encoded data removed]",
      "text/plain": [
       "<Figure size 720x360 with 1 Axes>"
      ]
     },
     "metadata": {},
     "output_type": "display_data"
    }
   ],
   "source": [
    "# Import matplotlib\n",
    "import matplotlib.pyplot as plot\n",
    "%matplotlib inline\n",
    "\n",
    "# Create bins array\n",
    "bins = []\n",
    "for i in range(18):\n",
    "    bin = i * 10000\n",
    "    bins.append(bin)\n",
    "    \n",
    "# Graph style\n",
    "plot.style.use(\"ggplot\")\n",
    "plot.figure(figsize=(10,5))\n",
    "plot.xlim([0,180000])\n",
    "\n",
    "# Create title and lables\n",
    "plot.title(\"City of Chicago Employees: Frequency of Salaries\")\n",
    "plot.xlabel(\"Salary (in Dollars)\")\n",
    "plot.ylabel(\"Frequency\")\n",
    "\n",
    "# Create histogram\n",
    "plot.hist(salary_array, bins, align=\"left\", color=\"green\", edgecolor=\"black\")\n",
    "plot.show()"
   ]
  },
  {
   "cell_type": "markdown",
   "metadata": {},
   "source": [
    "### Question: How many employees per department in the City of Chicago?"
   ]
  },
  {
   "cell_type": "code",
   "execution_count": 24,
   "metadata": {},
   "outputs": [
    {
     "data": {
      "text/plain": [
       "POLICE                   13061\n",
       "FIRE                      4837\n",
       "OEMC                      2121\n",
       "STREETS & SAN             2035\n",
       "WATER MGMNT               1905\n",
       "AVIATION                  1414\n",
       "TRANSPORTN                1242\n",
       "PUBLIC LIBRARY             984\n",
       "GENERAL SERVICES           964\n",
       "FAMILY & SUPPORT           626\n",
       "FINANCE                    564\n",
       "HEALTH                     505\n",
       "CITY COUNCIL               448\n",
       "LAW                        392\n",
       "BUILDINGS                  277\n",
       "COMMUNITY DEVELOPMENT      204\n",
       "BUSINESS AFFAIRS           161\n",
       "COPA                       115\n",
       "BOARD OF ELECTION          103\n",
       "DoIT                        98\n",
       "PROCUREMENT                 97\n",
       "MAYOR'S OFFICE              89\n",
       "CITY CLERK                  89\n",
       "INSPECTOR GEN               87\n",
       "ANIMAL CONTRL               80\n",
       "HUMAN RESOURCES             70\n",
       "CULTURAL AFFAIRS            67\n",
       "BUDGET & MGMT               46\n",
       "ADMIN HEARNG                39\n",
       "DISABILITIES                29\n",
       "TREASURER                   22\n",
       "HUMAN RELATIONS             17\n",
       "IPRA                        13\n",
       "BOARD OF ETHICS              8\n",
       "POLICE BOARD                 2\n",
       "LICENSE APPL COMM            1\n",
       "Name: Department, dtype: int64"
      ]
     },
     "execution_count": 24,
     "metadata": {},
     "output_type": "execute_result"
    }
   ],
   "source": [
    "# Count the number of entries from each department\n",
    "department_count = salary_DF[\"Department\"].value_counts()\n",
    "department_count"
   ]
  },
  {
   "cell_type": "markdown",
   "metadata": {},
   "source": [
    "### Modify Data: Create a List of Departments and a List of Their Frequences\n",
    "\n",
    "These two lists will be useful when plotting."
   ]
  },
  {
   "cell_type": "code",
   "execution_count": 28,
   "metadata": {},
   "outputs": [
    {
     "name": "stdout",
     "output_type": "stream",
     "text": [
      "['POLICE', 'FIRE', 'OEMC', 'STREETS & SAN', 'WATER MGMNT', 'AVIATION', 'TRANSPORTN', 'PUBLIC LIBRARY', 'GENERAL SERVICES', 'FAMILY & SUPPORT', 'FINANCE', 'HEALTH', 'CITY COUNCIL', 'LAW', 'BUILDINGS', 'COMMUNITY DEVELOPMENT', 'BUSINESS AFFAIRS', 'COPA', 'BOARD OF ELECTION', 'DoIT', 'PROCUREMENT', \"MAYOR'S OFFICE\", 'CITY CLERK', 'INSPECTOR GEN', 'ANIMAL CONTRL', 'HUMAN RESOURCES', 'CULTURAL AFFAIRS', 'BUDGET & MGMT', 'ADMIN HEARNG', 'DISABILITIES', 'TREASURER', 'HUMAN RELATIONS', 'IPRA', 'BOARD OF ETHICS', 'POLICE BOARD', 'LICENSE APPL COMM']\n",
      "[13061, 4837, 2121, 2035, 1905, 1414, 1242, 984, 964, 626, 564, 505, 448, 392, 277, 204, 161, 115, 103, 98, 97, 89, 89, 87, 80, 70, 67, 46, 39, 29, 22, 17, 13, 8, 2, 1]\n"
     ]
    }
   ],
   "source": [
    "# Create department names list\n",
    "department_names = salary_DF[\"Department\"].value_counts().index.tolist()\n",
    "\n",
    "# Create frequency list\n",
    "department_count = salary_DF[\"Department\"].value_counts().tolist()\n",
    "\n",
    "# Print\n",
    "print(department_names)\n",
    "print(department_count)\n"
   ]
  },
  {
   "cell_type": "markdown",
   "metadata": {},
   "source": [
    "### Visualization: Pie Chart of Employees by Department\n",
    "\n",
    "Note: This pie chart has too many slices! We will need to fix it:"
   ]
  },
  {
   "cell_type": "code",
   "execution_count": 29,
   "metadata": {
    "scrolled": true
   },
   "outputs": [
    {
     "data": {
      "text/plain": [
       "<function matplotlib.pyplot.show(*args, **kw)>"
      ]
     },
     "execution_count": 29,
     "metadata": {},
     "output_type": "execute_result"
    },
    {
     "data": {
      "image/png": "[encoded data removed]",
      "text/plain": [
       "<Figure size 432x288 with 1 Axes>"
      ]
     },
     "metadata": {},
     "output_type": "display_data"
    }
   ],
   "source": [
    "# Import matplotlib\n",
    "import matplotlib.pyplot as plot\n",
    "%matplotlib inline\n",
    "\n",
    "# Create labels and data array\n",
    "labels = department_names\n",
    "data = department_count\n",
    "\n",
    "# Graph pie chart\n",
    "plot.pie(data, labels=labels, autopct=\"%1.1f%%\", shadow=True)\n",
    "plot.title(\"Employees by Department\")\n",
    "#plot.legend(title=\"Legend\", loc=\"lower left\")\n",
    "plot.axis(\"equal\")\n",
    "plot.show"
   ]
  },
  {
   "cell_type": "markdown",
   "metadata": {},
   "source": [
    "### Modify Data: If a Department is Not In the Top 10, Lump as 'Other'"
   ]
  },
  {
   "cell_type": "code",
   "execution_count": 34,
   "metadata": {},
   "outputs": [
    {
     "name": "stdout",
     "output_type": "stream",
     "text": [
      "['POLICE', 'FIRE', 'OEMC', 'STREETS & SAN', 'WATER MGMNT', 'AVIATION', 'TRANSPORTN', 'PUBLIC LIBRARY', 'GENERAL SERVICES', 'FAMILY & SUPPORT', 'OTHER']\n",
      "[13061, 4837, 2121, 2035, 1905, 1414, 1242, 984, 964, 626, 3623]\n"
     ]
    }
   ],
   "source": [
    "# Make new list of largest 10 names, add \"OTHER\"\n",
    "shortened_names = department_names[:10]\n",
    "shortened_names.append(\"OTHER\")\n",
    "\n",
    "# Make new list of largets 10 counts, add sum of remaining\n",
    "shortened_count = department_count[:10]\n",
    "remaining = sum(department_count[10:])\n",
    "shortened_count.append(remaining)\n",
    "\n",
    "# Print two lists\n",
    "print(shortened_names)\n",
    "print(shortened_count)\n"
   ]
  },
  {
   "cell_type": "markdown",
   "metadata": {},
   "source": [
    "### Visualization: Pie Chart of Number of Employees by Department (Fixed)"
   ]
  },
  {
   "cell_type": "code",
   "execution_count": 35,
   "metadata": {},
   "outputs": [
    {
     "data": {
      "image/png": "[encoded data removed]",
      "text/plain": [
       "<Figure size 720x720 with 1 Axes>"
      ]
     },
     "metadata": {},
     "output_type": "display_data"
    }
   ],
   "source": [
    "# Import matplotlib\n",
    "import matplotlib.pyplot as plot\n",
    "%matplotlib inline\n",
    "\n",
    "# Graph details\n",
    "plot.figure(figsize=(10,10))\n",
    "plot.title(\"Number of Employees by Department\")\n",
    "plot.style.use(\"ggplot\")\n",
    "colors_array = [\"lightblue\", \"red\", \"brown\", \"orange\", \"blue\", \"green\", \"yellow\", \"pink\", \"lightgreen\", \"cyan\", \"lightgray\"]\n",
    "\n",
    "# Create pie chart\n",
    "    # plot.pie(data array, labels array, color array, percentages, shadow)\n",
    "plot.pie(shortened_count, labels=shortened_names, colors=colors_array, autopct=\"%1.1f%%\", shadow=True)\n",
    "#plot.legend(title=\"Legend), loc=\"lower_left\")\n",
    "plot.show()"
   ]
  },
  {
   "cell_type": "markdown",
   "metadata": {},
   "source": [
    "### Question: What is the mean (average) salary in each department in the City of Chicago?"
   ]
  },
  {
   "cell_type": "code",
   "execution_count": null,
   "metadata": {},
   "outputs": [],
   "source": [
    "# Group each department\n"
   ]
  },
  {
   "cell_type": "markdown",
   "metadata": {},
   "source": [
    "### Modify Data: Create a List of Departments and a List of Their Average Annual Salaries\n",
    "\n",
    "These two lists will be useful when plotting."
   ]
  },
  {
   "cell_type": "code",
   "execution_count": null,
   "metadata": {},
   "outputs": [],
   "source": [
    "# Array of department names sorted by the average salary\n",
    "dept_names_average = salary_DF[\"Annual Salary\"].groupby(salary_DF[\"Department\"]).mean().index.tolist()\n",
    "\n",
    "# Array of salaries sorted by department\n",
    "dept_avg = salary_DF[\"Annual Salary\"].groupby(salary_DF[\"Department\"]).mean().tolist()\n",
    "\n",
    "# Print the arrays\n",
    "\n"
   ]
  },
  {
   "cell_type": "markdown",
   "metadata": {},
   "source": [
    "### Visualization: Bar Chart of Average Annual Salary by Department\n",
    "#### Sorted by Departement Name"
   ]
  },
  {
   "cell_type": "code",
   "execution_count": null,
   "metadata": {},
   "outputs": [],
   "source": [
    "# Import matplotlib\n",
    "import matplotlib.pyplot as plot\n",
    "%matplotlib inline\n",
    "\n",
    "# Graph details\n",
    "plot.style.use(\"ggplot\")\n",
    "plot.figure(figsize=(10,5))\n",
    "plot.title(\"City of Chicago Employees: Average Annual Salary by Department\")\n",
    "plot.xlabel(\"Department\")\n",
    "plot.ylabel(\"Annual Salary\")\n",
    "\n",
    "length = len(dept_names_average)\n",
    "bar_pos = np.arange(1, length+1)  # numpy array of numbers [1-36]\n",
    "plot.xticks(bar_pos, dept_names_average, rotation=90)\n",
    "width = 0.9\n",
    "\n",
    "# Bar graph\n",
    "plot.bar(bar_pos, dept_avg, width, color=\"#009999\")\n",
    "plot.show()"
   ]
  },
  {
   "cell_type": "markdown",
   "metadata": {},
   "source": [
    "### Modify Data: Merge Our Two Lists Into a List of Tuples, Then Sort\n",
    "\n",
    "By sorting, we can get a nicer plot."
   ]
  },
  {
   "cell_type": "code",
   "execution_count": null,
   "metadata": {},
   "outputs": [],
   "source": [
    "# List of tuples in the form (names, average salary)\n",
    "\n",
    "\n",
    "\n",
    "\n",
    "# Sort the list in reverse\n",
    "sorted_average_list.sort(key = lambda x: x[1], reverse=True)\n",
    "\n",
    "# Print\n"
   ]
  },
  {
   "cell_type": "markdown",
   "metadata": {},
   "source": [
    "### Visualization: Another Bar Chart of Average Annual Salary by Department \n",
    "\n",
    "#### Sorted by Average Annual Salary"
   ]
  },
  {
   "cell_type": "code",
   "execution_count": null,
   "metadata": {},
   "outputs": [],
   "source": [
    "# Import matplotlib and numpy\n",
    "import matplotlib.pyplot as plot\n",
    "%matplotlib inline\n",
    "import numpy as np\n",
    "\n",
    "# Graph details\n",
    "plot.style.use(\"ggplot\")  #fivethirty eight, bmh; grayscale, dark_background, ggplot\n",
    "plot.figure(figsize=(10,5))\n",
    "plot.title('City of Chicago Employees: Average Annual Salary by Department')\n",
    "plot.ylabel('Annual Salary')\n",
    "plot.xlabel('Department')\n",
    "\n",
    "length = len(sorted_average_list)\n",
    "bar_pos = np.arange(1, length+1)  # numpy array of numbers [1-36]\n",
    "plot.xticks(bar_pos, dept_names_average, rotation=90)\n",
    "width = 0.9\n",
    "\n",
    "x_data = [tuple[0] for tuple in sorted_average_list]\n",
    "y_data = [tuple[1] for tuple in sorted_average_list]\n",
    "\n",
    "plot.bar(bar_pos, y_data, width, color=\"gray\")\n",
    "plot.show()\n"
   ]
  },
  {
   "cell_type": "markdown",
   "metadata": {},
   "source": [
    "### Question: What is the total salary expenditure in each department in the City of Chicago?"
   ]
  },
  {
   "cell_type": "code",
   "execution_count": null,
   "metadata": {},
   "outputs": [],
   "source": [
    "# List of each departments total salary spending\n"
   ]
  },
  {
   "cell_type": "markdown",
   "metadata": {},
   "source": [
    "### Modify Data: Create a Sorted List of Tuples"
   ]
  },
  {
   "cell_type": "code",
   "execution_count": null,
   "metadata": {},
   "outputs": [],
   "source": [
    "# List of department names\n",
    "department_names_sum = salary_DF[\"Annual Salary\"].groupby(salary_DF[\"Department\"]).sum().index.tolist()\n",
    "\n",
    "# List of department total salary spending\n",
    "department_sum = salary_DF[\"Annual Salary\"].groupby(salary_DF[\"Department\"]).sum().tolist()\n",
    "\n",
    "# Create list a tuples in form (department name, department total salary spending)\n",
    "    # 'zip' binds two parallel arrays into tuples\n",
    "\n",
    "\n",
    "# Sort the list by total sums, in reverse\n",
    "sorted_sum_list.sort(key = lambda x: x[1], reverse=True)\n",
    "\n",
    "# Print\n"
   ]
  },
  {
   "cell_type": "markdown",
   "metadata": {},
   "source": [
    "### Visualization: Bar Chart of Total Annual Salary Expenditure by Department \n",
    "\n",
    "#### Sorted by Total Expenditure\n",
    "* y-axis expressed in billions of dollars (1 x 10^9 or 1e9)"
   ]
  },
  {
   "cell_type": "code",
   "execution_count": null,
   "metadata": {},
   "outputs": [],
   "source": [
    "# Import matplotlib and numpy\n",
    "import matplotlib.pyplot as plot\n",
    "%matplotlib inline\n",
    "import numpy as np\n",
    "\n",
    "# Graph details\n",
    "plot.style.use(\"ggplot\")  #fivethirty eight, bmh; grayscale, dark_background, ggplot\n",
    "plot.figure(figsize=(10,5))\n",
    "plot.title('Total Annual Salary Expenditure by Department')\n",
    "plot.ylabel('Total Annual Salary Expenditure')\n",
    "plot.xlabel('Department')\n",
    "\n",
    "length = len(sorted_sum_list)\n",
    "bar_pos = np.arange(1, length+1)  # numpy array of numbers [1-36]\n",
    "plot.xticks(bar_pos, department_names_sum, rotation=90)\n",
    "width = 0.9\n",
    "\n",
    "# Create lists of sorted departements and total sums\n",
    "x_data = [tuple[0] for tuple in sorted_sum_list]\n",
    "y_data = [tuple[1] for tuple in sorted_sum_list]\n",
    "\n",
    "# Bar graph\n",
    "plot.bar(bar_pos, y_data, width, color=\"tan\", edgecolor=\"black\")\n",
    "\n",
    "plot.show()"
   ]
  },
  {
   "cell_type": "markdown",
   "metadata": {},
   "source": [
    "# Open Data Example #2: School District Revenue and Enrollment\n",
    "\n",
    "_Source for Data Set:_ The United States Census Bureau (via data.gov)\n",
    "\n",
    "_URL for Data Set:_ https://www.census.gov/data/tables/2015/econ/school-finances/secondary-education-finance.html\n",
    "\n",
    "_Note:_ You should get this dataset from Schoology, not the URL. The Schoology file has been cleaned to remove outliers (for example, districts with 0 students or 0 revenue).\n",
    "\n",
    "_Description of Data Set:_ This data has school enrollment versus total revenue for every school district in the United States in 2015 (the most recent data available).\n",
    "\n",
    "_File Format for Data Set:_ CSV file (Comma Separated Values)\n",
    "\n",
    "_Age of Data Set:_ 5/11/2017, accessed 1/28/2018"
   ]
  },
  {
   "cell_type": "markdown",
   "metadata": {},
   "source": [
    "Read in the data:"
   ]
  },
  {
   "cell_type": "code",
   "execution_count": null,
   "metadata": {},
   "outputs": [],
   "source": [
    "# Import pandas\n",
    "import pandas as pd\n",
    "\n",
    "# Read the csv file (comma separated values)\n",
    "\n",
    "\n",
    "# Print last thre entries\n"
   ]
  },
  {
   "cell_type": "markdown",
   "metadata": {},
   "source": [
    "Now plot:"
   ]
  },
  {
   "cell_type": "code",
   "execution_count": null,
   "metadata": {},
   "outputs": [],
   "source": [
    "# Import matplotlib\n",
    "import matplotlib.pyplot as plot\n",
    "%matplotlib inline\n",
    "\n",
    "#enrollmentDF.plot(kind='scatter', x='Enrollment', y='Total Revenue');\n",
    "\n",
    "# Graph details\n",
    "plot.style.use(\"ggplot\")  #fivethirty eight, bmh; grayscale, dark_background, ggplot\n",
    "plot.figure(figsize=(10,5))\n",
    "plot.title('Enrollment vs Revenue in US School Districts')\n",
    "plot.ylabel('Revenue')\n",
    "plot.xlabel('Enrollment')\n",
    "\n",
    "x_data = enrollment_DF[\"Total Enrollment\"]\n",
    "y_data = enrollment_DF[\"Total Revenue\"]\n",
    "plot.xlim([-20000,250000])\n",
    "plot.ylim([-200000,4000000])\n",
    "\n",
    "# Scatter plot\n",
    "plot.scatter(x_data, y_data, color=\"#A035E8\")\n",
    "\n",
    "plot.show()"
   ]
  },
  {
   "cell_type": "markdown",
   "metadata": {},
   "source": [
    "### Question: What seems to be the relationship between the number of students enrolled in a school district and the revenue of the district?"
   ]
  },
  {
   "cell_type": "markdown",
   "metadata": {
    "collapsed": true
   },
   "source": [
    "### Linear Regression\n",
    "* Modeling the relationship between two variables using a linear equation (straight line)\n",
    "* Equation for a line in slope-intercept form:\n",
    "    * y = mx + b\n",
    "        * m = slope\n",
    "        * b = y-intercept"
   ]
  },
  {
   "cell_type": "code",
   "execution_count": null,
   "metadata": {},
   "outputs": [],
   "source": [
    "# Import matplotlib and numpy\n",
    "import matplotlib.pyplot as plot\n",
    "%matplotlib inline\n",
    "import numpy as np\n",
    "\n",
    "# Graph details\n",
    "plot.title('Enrollment vs Revenue in US School Districts')\n",
    "plot.ylabel('Revenue')\n",
    "plot.xlabel('Enrollment')\n",
    "\n",
    "x_data = enrollment_DF[\"Total Enrollment\"]\n",
    "y_data = enrollment_DF[\"Total Revenue\"]\n",
    "plot.xlim([-20000,250000])\n",
    "plot.ylim([-200000,4000000])\n",
    "\n",
    "# Use np.polyfit to calculate the slope and y-intercept for the 'line of best fit'\n",
    "m, b = np.polyfit(x_data, y_data, 1)\n",
    "\n",
    "# Scatter Plot\n",
    "    # plot.plot(variable, equation, line width, color)\n",
    "plot.plot(x_data, m*x_data + b, linewidth=4, color=\"red\")\n",
    "plot.scatter(x_data, y_data, color=\"#F4F124\")\n",
    "\n",
    "plot.show()"
   ]
  },
  {
   "cell_type": "markdown",
   "metadata": {},
   "source": [
    "### Question: Explain the meaning of the code in the cell below. Then run it and interpret the resulting output."
   ]
  },
  {
   "cell_type": "code",
   "execution_count": null,
   "metadata": {},
   "outputs": [],
   "source": [
    "x0 = 125000\n",
    "print(m*x0 + b)"
   ]
  },
  {
   "cell_type": "code",
   "execution_count": null,
   "metadata": {
    "collapsed": true
   },
   "outputs": [],
   "source": []
  }
 ],
 "metadata": {
  "kernelspec": {
   "display_name": "Python 3",
   "language": "python",
   "name": "python3"
  },
  "language_info": {
   "codemirror_mode": {
    "name": "ipython",
    "version": 3
   },
   "file_extension": ".py",
   "mimetype": "text/x-python",
   "name": "python",
   "nbconvert_exporter": "python",
   "pygments_lexer": "ipython3",
   "version": "3.6.5"
  }
 },
 "nbformat": 4,
 "nbformat_minor": 1
}
