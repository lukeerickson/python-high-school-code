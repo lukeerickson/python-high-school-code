{
 "cells": [
  {
   "cell_type": "markdown",
   "metadata": {},
   "source": [
    "# Data science exploration\n",
    "## Featuring @FremdBot temperature data\n",
    "* Reminder 1: What is a data scientist?\n",
    "  * Video: https://www.youtube.com/watch?v=i2jwZcWicSY\n",
    "  \n",
    "\n",
    "* Reminder 2: What is Pandas?\n",
    "  * Pandas is a popular tool that data scientists use to analyze data sets\n",
    "  * It is a library designed to make it easier to work with large datasets\n",
    "  * Pandas offers users 2 new data structures:\n",
    "    * series\n",
    "    * dataframes\n",
    "    \n",
    "    \n",
    "* Background for today's data exploration:\n",
    "  * @FremdBot is a Twitter account that tweets out temperature data from Fremd https://twitter.com/fremdbot\n",
    "  * Made from two Raspberry Pi computers, two temperature probes, and a camera\n",
    "  * The data collected by @FremdBot is publicly available here:\n",
    "      * https://thingspeak.com/channels/123549\n",
    "      * https://thingspeak.com/channels/142171\n",
    "      * This is an example of \"open data\" (data that is freely shared with the world)\n",
    "      * Further reading: https://en.wikipedia.org/wiki/Open_data\n",
    "   * Related terms: \n",
    "     * The Internet of Things (https://en.wikipedia.org/wiki/Internet_of_things)\n",
    "     * Citizen Science (https://en.wikipedia.org/wiki/Citizen_science)"
   ]
  },
  {
   "cell_type": "markdown",
   "metadata": {},
   "source": [
    "## The @FremdBot project has generated a great deal of data\n",
    "* We will use Pandas and some of the tools of datascience to dive into this data\n",
    "* The data structure we will be using is a dataframe:"
   ]
  },
  {
   "cell_type": "code",
   "execution_count": null,
   "metadata": {},
   "outputs": [],
   "source": [
    "# Use pandas to read in the temperature data\n",
    "\n",
    "\n",
    "# Reads in a csv file (comma separated values)\n",
    "\n",
    "\n",
    "# Show the last 3 entries in the file:\n"
   ]
  },
  {
   "cell_type": "markdown",
   "metadata": {},
   "source": [
    "## Clean the data (remove erroneous temperatures)\n",
    "* Cleaning data is the process of finding and deleting/fixing erroneous data\n",
    "  * Further reading: https://en.wikipedia.org/wiki/Data_cleansing\n",
    "  * In this example, the Raspberry Pi sometimes records an erroneous reading of 185 degrees F \n"
   ]
  },
  {
   "cell_type": "code",
   "execution_count": null,
   "metadata": {},
   "outputs": [],
   "source": [
    "# Print length\n",
    "\n",
    "\n",
    "# Trim bad data\n",
    "\n",
    "\n",
    "# Print new length\n"
   ]
  },
  {
   "cell_type": "markdown",
   "metadata": {},
   "source": [
    "## Look at all the temperatures (and sort from low to high)"
   ]
  },
  {
   "cell_type": "code",
   "execution_count": null,
   "metadata": {},
   "outputs": [],
   "source": [
    "# Sort the pandas dataframe by temperature\n",
    "\n",
    "\n",
    "# Print the first 10 items\n"
   ]
  },
  {
   "cell_type": "markdown",
   "metadata": {},
   "source": [
    "### Now create a single list (pandas series) of only temperatures "
   ]
  },
  {
   "cell_type": "code",
   "execution_count": null,
   "metadata": {},
   "outputs": [],
   "source": [
    "# Create variable, store \"temp\" values\n",
    "\n",
    "\n",
    "# Print first ten items\n"
   ]
  },
  {
   "cell_type": "markdown",
   "metadata": {},
   "source": [
    "## Find the average temperature\n",
    "* The average annual temperature in the Chicagoland area is usually between 49.5F and 52.5F, so this number seems reasonable:"
   ]
  },
  {
   "cell_type": "code",
   "execution_count": null,
   "metadata": {},
   "outputs": [],
   "source": [
    "# Import numpy\n",
    "\n",
    "\n",
    "# Create list/array of temperatures\n",
    "\n",
    "\n",
    "# Calculate and print the average\n",
    "\n"
   ]
  },
  {
   "cell_type": "markdown",
   "metadata": {},
   "source": [
    "### Find all temperatures greater than 50"
   ]
  },
  {
   "cell_type": "code",
   "execution_count": null,
   "metadata": {},
   "outputs": [],
   "source": [
    "# Create variable, store only temps above 50\n",
    "\n",
    "\n",
    "# Print the first ten values\n"
   ]
  },
  {
   "cell_type": "markdown",
   "metadata": {},
   "source": [
    "### Find all temperatures greater than 90"
   ]
  },
  {
   "cell_type": "code",
   "execution_count": null,
   "metadata": {},
   "outputs": [],
   "source": [
    "# Create variable, store only temps above 90\n",
    "\n",
    "\n",
    "# Print the first ten results\n"
   ]
  },
  {
   "cell_type": "markdown",
   "metadata": {},
   "source": [
    "## Look at the 10 highest temperatures"
   ]
  },
  {
   "cell_type": "code",
   "execution_count": null,
   "metadata": {},
   "outputs": [],
   "source": [
    "# Create variable, store the last 10 temps\n",
    "\n",
    "\n",
    "# Print the results\n"
   ]
  },
  {
   "cell_type": "markdown",
   "metadata": {},
   "source": [
    "### When did those high temperatures occur?"
   ]
  },
  {
   "cell_type": "code",
   "execution_count": null,
   "metadata": {},
   "outputs": [],
   "source": [
    "# Create a variable, store only dates\n",
    "\n",
    "\n",
    "# Print results\n"
   ]
  },
  {
   "cell_type": "markdown",
   "metadata": {},
   "source": [
    "### Reformat the date and time of each entry "
   ]
  },
  {
   "cell_type": "code",
   "execution_count": null,
   "metadata": {},
   "outputs": [],
   "source": [
    "# Import datetime\n",
    "from datetime import datetime\n",
    "new_dates = []\n",
    "for date in temp_data[\"date_time\"]:\n",
    "    new_dates.append(datetime.strptime(date,'%Y-%m-%d %H:%M:%S UTC'))\n",
    "\n",
    "print(new_dates[:10])"
   ]
  },
  {
   "cell_type": "markdown",
   "metadata": {},
   "source": [
    "### Now to graph the temperature data..."
   ]
  },
  {
   "cell_type": "code",
   "execution_count": null,
   "metadata": {},
   "outputs": [],
   "source": [
    "# Import matplotlib\n",
    "import matplotlib.pyplot as plot\n",
    "%matplotlib inline\n",
    "\n",
    "# Graph details\n",
    "plot.figure(2,(25,10))\n",
    "plot.style.use(\"ggplot\")  # fivethirtyeight, bmh, grayscale, dark_background, ggplot\n",
    "plot.title(\"Temperature Data from Fremd Bot\")\n",
    "plot.xlabel(\"Date\")\n",
    "plot.ylabel(\"Temperature\")\n",
    "\n",
    "# plot.scatter(x-axis data, y-axis data)\n",
    "plot.scatter(new_dates,temp_data[\"temp\"])\n",
    "plot.show()"
   ]
  },
  {
   "cell_type": "markdown",
   "metadata": {},
   "source": [
    "### Observations:\n",
    "* Sometimes a good visualization can show us something that we don't notice in the full data set\n",
    "  * What do you notice about this scatterplot that wasn't obvious in the original dataset?\n",
    "  * Is this dataset complete?\n",
    "  * What might have happened with the data?\n",
    "    * Instructor note: Two main things happened to the data. Sometimes the .py script that recorded temperatures would crash\n",
    "    and need to be rebooted. Othertimes the power to our raspberry pi device would be cut off :( Both of these scenarios would cause gaps in the data.\n",
    "  * Should a dateset be disregarded or deleted because it is imperfect? "
   ]
  },
  {
   "cell_type": "markdown",
   "metadata": {},
   "source": [
    "## Try again with indoor temperatures (Room 223):"
   ]
  },
  {
   "cell_type": "code",
   "execution_count": null,
   "metadata": {},
   "outputs": [],
   "source": [
    "# Import pandas\n",
    "import pandas as pd\n",
    "\n",
    "# Read in the csv file (comma separated values)\n",
    "indoor_orig = pd.read_csv('Room 223 2019.csv')\n",
    "\n",
    "# Clean the data (remove entries over 120F)\n",
    "indoor_clean = indoor_orig[indoor_orig.temp<120]\n",
    "\n",
    "# Reformat the dates and times\n",
    "from datetime import datetime\n",
    "indoor_dates = []\n",
    "\n",
    "for date in indoor_clean[\"date_time\"]:\n",
    "    indoor_dates.append(datetime.strptime(date,'%Y-%m-%d %H:%M:%S UTC'))\n",
    "\n",
    "# Print first 10 results\n",
    "print(indoor_dates[:10])"
   ]
  },
  {
   "cell_type": "markdown",
   "metadata": {},
   "source": [
    "### Plot:"
   ]
  },
  {
   "cell_type": "code",
   "execution_count": null,
   "metadata": {},
   "outputs": [],
   "source": [
    "# Import matplotlib\n",
    "import matplotlib.pyplot as plot\n",
    "%matplotlib inline\n",
    "\n",
    "# Graph details\n",
    "plot.figure(2,(25,10))\n",
    "plot.style.use(\"ggplot\")  # fivethirtyeight, bmh, grayscale, dark_background, ggplot\n",
    "plot.title(\"Indoor Temperature Data from Fremd Bot\")\n",
    "plot.xlabel(\"Date\")\n",
    "plot.ylabel(\"Temperature\")\n",
    "\n",
    "#plot.scatter(x, y, s=area, c=colors, alpha=0.5)\n",
    "plot.scatter(indoor_dates,indoor_clean[\"temp\"],color=\"green\")\n",
    "plot.show()"
   ]
  },
  {
   "cell_type": "markdown",
   "metadata": {},
   "source": [
    "# Task 1\n",
    "* What do you notice about this scatterplot compared to the outdoor temperature scatterplot?"
   ]
  },
  {
   "cell_type": "markdown",
   "metadata": {},
   "source": [
    "# Task 2\n",
    "* Show the top 10 hottest temperatures recorded in Room 223\n",
    "* What was the date and time of the hottest temperature recorded in Room 223?"
   ]
  },
  {
   "cell_type": "markdown",
   "metadata": {},
   "source": [
    "# Task 3\n",
    "* Show the 10 coldest temperatures recorded in Room 223\n",
    "* What was the date and time of the coldest temperature recorded in Room 223?"
   ]
  },
  {
   "cell_type": "markdown",
   "metadata": {},
   "source": [
    "# Task 4\n",
    "* What was the average temperature in Room 223 based on the provided dataset?"
   ]
  },
  {
   "cell_type": "markdown",
   "metadata": {
    "collapsed": true
   },
   "source": [
    "# Challenge\n",
    "* Use the outdoor temperature data to determine the date and magnitude of the largest 24-hour temperature swing\n",
    "  * For example, suppose that it was 50 degrees F on 1/5/17 at 5:00pm and -10 degrees F on 1/6/17 at 3:00am\n",
    "  * If this were the case, then this would be a 24-hour temperature swing of -60 degrees "
   ]
  },
  {
   "cell_type": "code",
   "execution_count": null,
   "metadata": {
    "collapsed": true
   },
   "outputs": [],
   "source": []
  }
 ],
 "metadata": {
  "kernelspec": {
   "display_name": "Python 3",
   "language": "python",
   "name": "python3"
  },
  "language_info": {
   "codemirror_mode": {
    "name": "ipython",
    "version": 3
   },
   "file_extension": ".py",
   "mimetype": "text/x-python",
   "name": "python",
   "nbconvert_exporter": "python",
   "pygments_lexer": "ipython3",
   "version": "3.6.5"
  }
 },
 "nbformat": 4,
 "nbformat_minor": 1
}
