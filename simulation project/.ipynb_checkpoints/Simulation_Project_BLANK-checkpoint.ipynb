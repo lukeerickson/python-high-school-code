{
 "cells": [
  {
   "cell_type": "markdown",
   "metadata": {},
   "source": [
    "# Simulation Project\n",
    "* Name\n",
    "* Class period\n",
    "* Problem number\n",
    "* Problem text"
   ]
  },
  {
   "cell_type": "markdown",
   "metadata": {},
   "source": [
    "### Single Trial Setup"
   ]
  },
  {
   "cell_type": "code",
   "execution_count": 5,
   "metadata": {},
   "outputs": [
    {
     "name": "stdout",
     "output_type": "stream",
     "text": [
      "Yes show\n"
     ]
    }
   ],
   "source": [
    "# Write code to run a single trial\n",
    "# Refer to your World Series Simulation as a resource!\n",
    "\n",
    "# Import the numpy package\n",
    "import numpy as np\n",
    "\n",
    "# Generate random number between 1-100\n",
    "passenger_shows = np.random.randint(1,101)\n",
    "\n",
    "# Test the percentage ranges\n",
    "if(passenger_shows <= 25):\n",
    "    print(\"No show\")\n",
    "else:\n",
    "    print(\"Yes show\")\n",
    "\n",
    "# this is a test of the model"
   ]
  },
  {
   "cell_type": "markdown",
   "metadata": {},
   "source": [
    "### Single Trial Function"
   ]
  },
  {
   "cell_type": "code",
   "execution_count": 6,
   "metadata": {},
   "outputs": [
    {
     "name": "stdout",
     "output_type": "stream",
     "text": [
      "Yes show\n"
     ]
    }
   ],
   "source": [
    "# Define a function that runs a single trial and returns its result appropriately\n",
    "\n",
    "# Create function to simulate a single passenger showing up\n",
    "def passenger_shows_trial():\n",
    "    # Import the numpy package\n",
    "    import numpy as np\n",
    "\n",
    "    # Generate random number between 1-100\n",
    "    passenger_shows = np.random.randint(1,101)\n",
    "\n",
    "    # Test the percentage ranges\n",
    "    if(passenger_shows <= 25):\n",
    "        return(\"No show\")\n",
    "    else:\n",
    "        return(\"Yes show\")\n",
    "    \n",
    "print(passenger_shows_trial())"
   ]
  },
  {
   "cell_type": "markdown",
   "metadata": {},
   "source": [
    "### Full Simulation\n",
    "* Make sure you simulate a large number of trials!"
   ]
  },
  {
   "cell_type": "code",
   "execution_count": 7,
   "metadata": {},
   "outputs": [
    {
     "name": "stdout",
     "output_type": "stream",
     "text": [
      "7\n"
     ]
    }
   ],
   "source": [
    "# Run your single trial a large number of times\n",
    "# Record your data in an array\n",
    "\n",
    "def van_scenario():\n",
    "\n",
    "    # Create variables\n",
    "    no_show = 0\n",
    "    yes_show = 0\n",
    "    reservations = 0\n",
    "\n",
    "    # While loop\n",
    "    while reservations < 9:\n",
    "        trial = passenger_shows_trial()\n",
    "        if trial == \"No show\":\n",
    "            no_show += 1\n",
    "        else:\n",
    "            yes_show += 1\n",
    "        reservations = no_show + yes_show\n",
    "\n",
    "    # Print results\n",
    "    return yes_show\n",
    "    \n",
    "print(van_scenario())"
   ]
  },
  {
   "cell_type": "markdown",
   "metadata": {},
   "source": [
    "### Calculate the Results"
   ]
  },
  {
   "cell_type": "code",
   "execution_count": 8,
   "metadata": {
    "scrolled": true
   },
   "outputs": [
    {
     "name": "stdout",
     "output_type": "stream",
     "text": [
      "[   1    4   12   98  367 1177 2332 2932 2257  820]\n",
      "[6923, 3077]\n"
     ]
    }
   ],
   "source": [
    "# Using the results array, grab appropriate data and perform the necessary calculations\n",
    "\n",
    "# Create variables\n",
    "results = []\n",
    "\n",
    "# Create a loop that repeats a large number of trials, in this case 10,000\n",
    "for i in range(10000):\n",
    "    one_van = van_scenario()\n",
    "    results.append(one_van)\n",
    "\n",
    "\n",
    "# Create the bin\n",
    "my_bin = np.bincount(results)\n",
    "\n",
    "# Print the results\n",
    "print(my_bin)\n",
    "\n",
    "# new bin for results\n",
    "new_bin = []\n",
    "\n",
    "# assign number to 0 through 7 passengers\n",
    "new_num = 0\n",
    "for i in range(0,8):\n",
    "    new_num += my_bin[i]\n",
    "\n",
    "new_bin.append(new_num)\n",
    "\n",
    "# assign number to 8 or 9 passengers\n",
    "new_num = 0\n",
    "for i in range(8,10):\n",
    "    new_num += my_bin[i]\n",
    "\n",
    "# make a new complete bin\n",
    "new_bin.append(new_num)\n",
    "\n",
    "print (new_bin)\n"
   ]
  },
  {
   "cell_type": "markdown",
   "metadata": {},
   "source": [
    "### Display the Results"
   ]
  },
  {
   "cell_type": "code",
   "execution_count": 10,
   "metadata": {},
   "outputs": [
    {
     "data": {
      "image/png": "[encoded data removed]",
      "text/plain": [
       "<Figure size 432x288 with 1 Axes>"
      ]
     },
     "metadata": {},
     "output_type": "display_data"
    }
   ],
   "source": [
    "# source: http://matplotlib.org/examples/pie_and_polar_charts/pie_demo_features.html\n",
    "\n",
    "# Import the library\n",
    "import matplotlib.pyplot as plot\n",
    "%matplotlib inline\n",
    "# Magic to allow the graph to display directly in this notebook\n",
    "\n",
    "# Create an array of labels\n",
    "labels = [\"7 or less passengers showed up\", \"More than 7 passengers showed up\"]\n",
    "\n",
    "# Crop the bin array to exclude the 0's\n",
    "\n",
    "# Explode option\n",
    "    # 'Slices' appear distanced from the center\n",
    "        # Larger numbers = further explosion\n",
    "    # Explode array should be same size as labels and\n",
    "explode = (0, 0)\n",
    "\n",
    "# Use matplotlib module subplots() to get data for various charts\n",
    "    # Returns a tuple in the form (figure,axes)\n",
    "fig1,ax1 = plot.subplots()\n",
    "\n",
    "# Use axes to create a pie chart\n",
    "# ax1.pie(data array, explode array, labels array, starting angle)\n",
    "ax1.pie(new_bin, explode, labels, autopct='%1.1f%%', startangle=90)\n",
    "ax1.axis('equal')  # Equal aspect ratio ensures that pie is drawn as a circle.\n",
    "plot.title(\"Average Passengers With Reservations That Actually Show Up\")\n",
    "\n",
    "plot.show()"
   ]
  },
  {
   "cell_type": "markdown",
   "metadata": {},
   "source": [
    "### Answer"
   ]
  },
  {
   "cell_type": "markdown",
   "metadata": {},
   "source": [
    "*Provide an answer and reasoning here\n",
    "#There is a 30.5% chance that more than 7 passengers will show up\n",
    "#This is because in 10,000 trials, in 3050 of these trials, more than 7 passengers will show up"
   ]
  },
  {
   "cell_type": "markdown",
   "metadata": {},
   "source": [
    "### Additional Question\n",
    "* State one additional question of interest (of your choice) using the data from your simulation\n",
    "* If the van company installs a new van that can only hold 8 passengers but still accepts 9 reservations, what are the odds that 9 people show up and 1 person won't fit in the van?"
   ]
  },
  {
   "cell_type": "markdown",
   "metadata": {},
   "source": [
    "### Calculate the Results"
   ]
  },
  {
   "cell_type": "code",
   "execution_count": 11,
   "metadata": {},
   "outputs": [
    {
     "name": "stdout",
     "output_type": "stream",
     "text": [
      "[   0    0    9   99  373 1101 2455 3032 2185  746]\n",
      "[9254, 746]\n"
     ]
    }
   ],
   "source": [
    "# Using the results array, grab appropriate data and perform the necessary calculations\n",
    "\n",
    "# Using the results array, grab appropriate data and perform the necessary calculations\n",
    "\n",
    "# Create variables\n",
    "results = []\n",
    "\n",
    "# Create a loop that repeats a large number of trials, in this case 10,000\n",
    "for i in range(10000):\n",
    "    one_van = van_scenario()\n",
    "    results.append(one_van)\n",
    "\n",
    "\n",
    "# Create the bin\n",
    "my_bin = np.bincount(results)\n",
    "\n",
    "# Print the results\n",
    "print(my_bin)\n",
    "\n",
    "# new bin for results\n",
    "new_bin = []\n",
    "\n",
    "# assign number to 0 through 7 passengers\n",
    "new_num = 0\n",
    "for i in range(0,9):\n",
    "    new_num += my_bin[i]\n",
    "\n",
    "new_bin.append(new_num)\n",
    "\n",
    "# assign number to 8 or 9 passengers\n",
    "new_num = 0\n",
    "for i in range(9,10):\n",
    "    new_num += my_bin[i]\n",
    "\n",
    "# make a new complete bin\n",
    "new_bin.append(new_num)\n",
    "\n",
    "print (new_bin)\n"
   ]
  },
  {
   "cell_type": "markdown",
   "metadata": {},
   "source": [
    "### Display the Results "
   ]
  },
  {
   "cell_type": "code",
   "execution_count": 12,
   "metadata": {},
   "outputs": [
    {
     "data": {
      "image/png": "[encoded data removed]",
      "text/plain": [
       "<Figure size 432x288 with 1 Axes>"
      ]
     },
     "metadata": {},
     "output_type": "display_data"
    }
   ],
   "source": [
    "# Graphically display results related directly to your question\n",
    "\n",
    "# source: http://matplotlib.org/examples/pie_and_polar_charts/pie_demo_features.html\n",
    "\n",
    "# Import the library\n",
    "import matplotlib.pyplot as plot\n",
    "%matplotlib inline\n",
    "# Magic to allow the graph to display directly in this notebook\n",
    "\n",
    "# Create an array of labels\n",
    "labels = [\"8 or less passengers showed up and the van isn't overflowing\", \"9 people showed up and the van is overflowing\"]\n",
    "\n",
    "# Crop the bin array to exclude the 0's\n",
    "\n",
    "# Explode option\n",
    "    # 'Slices' appear distanced from the center\n",
    "        # Larger numbers = further explosion\n",
    "    # Explode array should be same size as labels and\n",
    "explode = (0, 0)\n",
    "\n",
    "# Use matplotlib module subplots() to get data for various charts\n",
    "    # Returns a tuple in the form (figure,axes)\n",
    "fig1,ax1 = plot.subplots()\n",
    "\n",
    "# Use axes to create a pie chart\n",
    "# ax1.pie(data array, explode array, labels array, starting angle)\n",
    "ax1.pie(new_bin, explode, labels, autopct='%1.1f%%', startangle=90)\n",
    "ax1.axis('equal')  # Equal aspect ratio ensures that pie is drawn as a circle.\n",
    "plot.title(\"Odds That Every Reservation Out of 9 Will Show Up\")\n",
    "\n",
    "plot.show()"
   ]
  }
 ],
 "metadata": {
  "kernelspec": {
   "display_name": "Python 3",
   "language": "python",
   "name": "python3"
  },
  "language_info": {
   "codemirror_mode": {
    "name": "ipython",
    "version": 3
   },
   "file_extension": ".py",
   "mimetype": "text/x-python",
   "name": "python",
   "nbconvert_exporter": "python",
   "pygments_lexer": "ipython3",
   "version": "3.7.1"
  }
 },
 "nbformat": 4,
 "nbformat_minor": 2
}
