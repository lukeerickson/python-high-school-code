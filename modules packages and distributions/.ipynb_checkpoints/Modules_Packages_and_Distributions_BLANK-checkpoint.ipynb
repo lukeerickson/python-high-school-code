{
 "cells": [
  {
   "cell_type": "markdown",
   "metadata": {},
   "source": [
    "# Modules and Packages\n",
    "* Module\n",
    "    * Python file (.py) that can be reused in other notebooks\n",
    "\n",
    "* Package\n",
    "    * Collection of Modules\n",
    "    * Usually related by a common theme\n",
    "        * Math\n",
    "        * Stats\n",
    "        * Graphing\n",
    "        * Random\n",
    "\n",
    "* Distribution: \n",
    "    * Collection of Packages\n",
    "    * Organizations/companies that creates an IDE for Python\n",
    "        * Ex: Anaconda\n",
    "\n",
    "* Where to download Anaconda: https://www.anaconda.com/download/"
   ]
  },
  {
   "cell_type": "markdown",
   "metadata": {},
   "source": [
    "## Programmer-defined modules"
   ]
  },
  {
   "cell_type": "code",
   "execution_count": null,
   "metadata": {
    "collapsed": true
   },
   "outputs": [],
   "source": [
    "# let's make our own module: open up Notepad++!\n",
    "# Steps:\n",
    "    # 1. Save blank file as numberFun.py (Python file) in your \"Modules, Packages, and Distributions\" folder\n",
    "    # 2. Write the function isEven(number) in Notepad++ as a class\n",
    "    # 3. Save the file\n",
    "    # 4. Come back to Jupyter Notebook :)\n"
   ]
  },
  {
   "cell_type": "code",
   "execution_count": 3,
   "metadata": {},
   "outputs": [
    {
     "name": "stdout",
     "output_type": "stream",
     "text": [
      "True\n"
     ]
    }
   ],
   "source": [
    "# Use the module by importing the file's name\n",
    "import num_fun\n",
    "\n",
    "# Using \"dot notation\", call the file name, then the function name, and pass the parameters required\n",
    "print(num_fun.is_even(16))\n"
   ]
  },
  {
   "cell_type": "markdown",
   "metadata": {},
   "source": [
    "## Python Standard Library\n",
    "* Documentation located here: https://docs.python.org/3/library/index.html"
   ]
  },
  {
   "cell_type": "markdown",
   "metadata": {},
   "source": [
    "### Look at the following modules:  \n",
    "* datetime\n",
    "* math\n",
    "* random\n",
    "* string"
   ]
  },
  {
   "cell_type": "code",
   "execution_count": 5,
   "metadata": {},
   "outputs": [
    {
     "name": "stdout",
     "output_type": "stream",
     "text": [
      "2019-02-25 14:18:57.449695\n"
     ]
    }
   ],
   "source": [
    "# datetime (What time is it right now?)\n",
    "\n",
    "# First import the datetime module\n",
    "import datetime\n",
    "\n",
    "# Get the current date and time using \"now\" (a function supplied in the datetime module)\n",
    "time_now = datetime.datetime.now()\n",
    "print(time_now)"
   ]
  },
  {
   "cell_type": "code",
   "execution_count": 6,
   "metadata": {},
   "outputs": [
    {
     "name": "stdout",
     "output_type": "stream",
     "text": [
      "93326215443944152681699238856266700490715968264381621468592963895217599993229915608941463976156518286253697920827223758251185210916864000000000000000000000000\n"
     ]
    }
   ],
   "source": [
    "# math (compute 100!)\n",
    "\n",
    "# Import the math module\n",
    "import math\n",
    "\n",
    "# Calculate the factorial using \"factorial(num)\" (a function supplied in the math module)\n",
    "factorial_100 = math.factorial(100)\n",
    "print(factorial_100)"
   ]
  },
  {
   "cell_type": "code",
   "execution_count": 7,
   "metadata": {},
   "outputs": [
    {
     "name": "stdout",
     "output_type": "stream",
     "text": [
      "36\n"
     ]
    }
   ],
   "source": [
    "# random (Generate a random integer between 1 and 100)\n",
    "\n",
    "# Import the random module\n",
    "import random\n",
    "\n",
    "# Generate the random integer between min and max using \"randint(min,max)\" (a function supplied in the random module)\n",
    "rand_num = random.randint(1,100)\n",
    "print(rand_num)"
   ]
  },
  {
   "cell_type": "code",
   "execution_count": 9,
   "metadata": {},
   "outputs": [
    {
     "name": "stdout",
     "output_type": "stream",
     "text": [
      "HEY ITS ME MORT SPANDEX\n"
     ]
    }
   ],
   "source": [
    "# string (Create a String in lowercase and print it in all uppercase)\n",
    "\n",
    "# The string module is built-in, and does not require an import\n",
    "    # Commonly used modules are typically built-in to the Python library\n",
    "    \n",
    "message = \"hey its me mort spandex\"\n",
    "print(message.upper())"
   ]
  },
  {
   "cell_type": "markdown",
   "metadata": {},
   "source": [
    "## Third-Party-Defined Packages"
   ]
  },
  {
   "cell_type": "markdown",
   "metadata": {},
   "source": [
    "### Look at the following packages:  \n",
    "* numpy\n",
    "* scipy\n",
    "* matplotlib\n",
    "* pyplot"
   ]
  },
  {
   "cell_type": "markdown",
   "metadata": {},
   "source": [
    "### numpy\n",
    "* a package for scientific computing"
   ]
  },
  {
   "cell_type": "code",
   "execution_count": 10,
   "metadata": {},
   "outputs": [
    {
     "name": "stdout",
     "output_type": "stream",
     "text": [
      "87\n"
     ]
    }
   ],
   "source": [
    "# numpy (Generate a random integer between 1 and 100)\n",
    "\n",
    "# Import the package\n",
    "import numpy\n",
    "\n",
    "# Generate a random number using the \"random.randint(min,max)\" function\n",
    "    # Syntax: package.module.function()\n",
    "rand_num = numpy.random.randint(1,101)\n",
    "print(rand_num)"
   ]
  },
  {
   "cell_type": "code",
   "execution_count": 13,
   "metadata": {},
   "outputs": [
    {
     "name": "stdout",
     "output_type": "stream",
     "text": [
      "[ 37   3  47  30   3  31  81  98   8  41  70  42  34  81  60 100  20  22\n",
      "  76  79  88  82  39  47  60   4  46  77  97  92  12  17  36  62  56  89\n",
      "   7  44   9  89  39  66  91  82 100   4  21   5  85  29]\n"
     ]
    }
   ],
   "source": [
    "# Generate 50 random numbers\n",
    "# numpy has an additional paramater available for number of times to repeat\n",
    "    # NOTICE: The data type returned is a numpy array!\n",
    "nums_50 = numpy.random.randint(1,101,50)\n",
    "print(nums_50)"
   ]
  },
  {
   "cell_type": "markdown",
   "metadata": {},
   "source": [
    "### matplotlib\n",
    "* A package for data visualization and plotting\n",
    "  * Data visualization: communicate data and information with a visual representation (charts, graphs, tables, etc)\n",
    "  * Data visualization is very popular right now!\n",
    "    * Award-winning examples of data journalism from 2017: \n",
    "      * http://graphics.wsj.com/hamilton/\n",
    "      * https://www.washingtonpost.com/graphics/world/border-barriers/europe-refugee-crisis-border-control/\n",
    "      * https://fivethirtyeight.com/features/gun-deaths/"
   ]
  },
  {
   "cell_type": "code",
   "execution_count": 14,
   "metadata": {},
   "outputs": [
    {
     "data": {
      "text/plain": [
       "Text(0.5,1,'random numbers')"
      ]
     },
     "execution_count": 14,
     "metadata": {},
     "output_type": "execute_result"
    },
    {
     "data": {
      "image/png": "[encoded data removed]",
      "text/plain": [
       "<Figure size 432x288 with 1 Axes>"
      ]
     },
     "metadata": {},
     "output_type": "display_data"
    }
   ],
   "source": [
    "# Create visual graphic of the 50 random numbers produced\n",
    "\n",
    "# Import the pyplot package from the matplotlib library\n",
    "import matplotlib.pyplot as plot\n",
    "\n",
    "# This is \"magic\" to make the graph show directly in the notebook!\n",
    "%matplotlib inline\n",
    "\n",
    "# Create \"bins\" to organize your numbers on the x-axis\n",
    "bins = [10, 20, 30, 40, 50, 60, 70, 80, 90, 100]\n",
    "\n",
    "# plot.hist(data array, bins/dividers array)\n",
    "plot.hist(nums_50, bins)\n",
    "plot.title(\"random numbers\")"
   ]
  },
  {
   "cell_type": "code",
   "execution_count": 16,
   "metadata": {},
   "outputs": [
    {
     "data": {
      "text/plain": [
       "Text(0,0.5,'frequency')"
      ]
     },
     "execution_count": 16,
     "metadata": {},
     "output_type": "execute_result"
    },
    {
     "data": {
      "image/png": "[encoded data removed]",
      "text/plain": [
       "<Figure size 432x288 with 1 Axes>"
      ]
     },
     "metadata": {},
     "output_type": "display_data"
    }
   ],
   "source": [
    "# improve the histogram\n",
    "\n",
    "# plot.hist(data array, bins/dividers array, alignment, graph color, edge color)\n",
    "plot.hist(nums_50, bins, align = \"mid\", color = \"#CCFFCC\", edgecolor = \"#000000\")\n",
    "plot.title(\"random numbers\")\n",
    "plot.xlabel(\"number bins\")\n",
    "plot.ylabel(\"frequency\")"
   ]
  },
  {
   "cell_type": "markdown",
   "metadata": {},
   "source": [
    "### scipy and pyplot\n",
    "* These are other packages to read about"
   ]
  }
 ],
 "metadata": {
  "kernelspec": {
   "display_name": "Python 3",
   "language": "python",
   "name": "python3"
  },
  "language_info": {
   "codemirror_mode": {
    "name": "ipython",
    "version": 3
   },
   "file_extension": ".py",
   "mimetype": "text/x-python",
   "name": "python",
   "nbconvert_exporter": "python",
   "pygments_lexer": "ipython3",
   "version": "3.7.1"
  }
 },
 "nbformat": 4,
 "nbformat_minor": 1
}
